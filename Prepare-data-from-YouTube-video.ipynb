{
 "cells": [
  {
   "cell_type": "markdown",
   "id": "fb553ae5",
   "metadata": {},
   "source": [
    "# Download and prepare data from YouTube video"
   ]
  },
  {
   "cell_type": "markdown",
   "id": "a207199f",
   "metadata": {},
   "source": [
    "**<font color='red'>\n",
    "    WARNING: This script downloads a large file from the internet!** "
   ]
  },
  {
   "cell_type": "code",
   "execution_count": 2,
   "id": "5a922797",
   "metadata": {},
   "outputs": [],
   "source": [
    "import os\n",
    "from pytube import YouTube"
   ]
  },
  {
   "cell_type": "code",
   "execution_count": 3,
   "id": "835631db",
   "metadata": {},
   "outputs": [
    {
     "data": {
      "text/plain": [
       "['Fireplace 10 hours full HD.mp4']"
      ]
     },
     "execution_count": 3,
     "metadata": {},
     "output_type": "execute_result"
    }
   ],
   "source": [
    "video_dir = 'videos'\n",
    "if not os.path.exists(video_dir):\n",
    "    os.mkdir(video_dir)\n",
    "os.listdir(video_dir)"
   ]
  },
  {
   "cell_type": "code",
   "execution_count": 4,
   "id": "a08a713d",
   "metadata": {},
   "outputs": [
    {
     "data": {
      "text/plain": [
       "36085"
      ]
     },
     "execution_count": 4,
     "metadata": {},
     "output_type": "execute_result"
    }
   ],
   "source": [
    "# Fireplace 10 hours full HD\n",
    "url = \"https://www.youtube.com/watch?v=L_LUpnjgPso\"\n",
    "#url = \"https://youtu.be/L_LUpnjgPso\"\n",
    "video = YouTube(url)\n",
    "# Length of the video in seconds\n",
    "video.length"
   ]
  },
  {
   "cell_type": "code",
   "execution_count": 6,
   "id": "d998e199",
   "metadata": {},
   "outputs": [
    {
     "name": "stderr",
     "output_type": "stream",
     "text": [
      "/var/folders/n_/crg11f15515bmttss59gmbn40000gn/T/ipykernel_94476/3957247587.py:1: DeprecationWarning: Call to deprecated function all (This object can be treated as a list, all() is useless).\n",
      "  streams = video.streams.all()\n"
     ]
    },
    {
     "data": {
      "text/plain": [
       "26"
      ]
     },
     "execution_count": 6,
     "metadata": {},
     "output_type": "execute_result"
    }
   ],
   "source": [
    "streams = video.streams.all()\n",
    "len(streams)"
   ]
  },
  {
   "cell_type": "code",
   "execution_count": 7,
   "id": "c118c0bc",
   "metadata": {},
   "outputs": [
    {
     "name": "stderr",
     "output_type": "stream",
     "text": [
      "/var/folders/n_/crg11f15515bmttss59gmbn40000gn/T/ipykernel_94476/4110366430.py:1: DeprecationWarning: Call to deprecated function all (This object can be treated as a list, all() is useless).\n",
      "  streams_mp4 = video.streams.filter(file_extension = \"mp4\").all()\n"
     ]
    },
    {
     "data": {
      "text/plain": [
       "16"
      ]
     },
     "execution_count": 7,
     "metadata": {},
     "output_type": "execute_result"
    }
   ],
   "source": [
    "streams_mp4 = video.streams.filter(file_extension = \"mp4\").all()\n",
    "len(streams_mp4)"
   ]
  },
  {
   "cell_type": "code",
   "execution_count": 8,
   "id": "8b023473",
   "metadata": {},
   "outputs": [
    {
     "data": {
      "text/plain": [
       "[<Stream: itag=\"18\" mime_type=\"video/mp4\" res=\"360p\" fps=\"25fps\" vcodec=\"avc1.42001E\" acodec=\"mp4a.40.2\" progressive=\"True\" type=\"video\">,\n",
       " <Stream: itag=\"22\" mime_type=\"video/mp4\" res=\"720p\" fps=\"25fps\" vcodec=\"avc1.64001F\" acodec=\"mp4a.40.2\" progressive=\"True\" type=\"video\">,\n",
       " <Stream: itag=\"137\" mime_type=\"video/mp4\" res=\"1080p\" fps=\"25fps\" vcodec=\"avc1.640028\" progressive=\"False\" type=\"video\">,\n",
       " <Stream: itag=\"399\" mime_type=\"video/mp4\" res=\"1080p\" fps=\"25fps\" vcodec=\"av01.0.08M.08\" progressive=\"False\" type=\"video\">,\n",
       " <Stream: itag=\"136\" mime_type=\"video/mp4\" res=\"720p\" fps=\"25fps\" vcodec=\"avc1.4d401f\" progressive=\"False\" type=\"video\">,\n",
       " <Stream: itag=\"398\" mime_type=\"video/mp4\" res=\"720p\" fps=\"25fps\" vcodec=\"av01.0.05M.08\" progressive=\"False\" type=\"video\">,\n",
       " <Stream: itag=\"135\" mime_type=\"video/mp4\" res=\"480p\" fps=\"25fps\" vcodec=\"avc1.4d401e\" progressive=\"False\" type=\"video\">,\n",
       " <Stream: itag=\"397\" mime_type=\"video/mp4\" res=\"480p\" fps=\"25fps\" vcodec=\"av01.0.04M.08\" progressive=\"False\" type=\"video\">,\n",
       " <Stream: itag=\"134\" mime_type=\"video/mp4\" res=\"360p\" fps=\"25fps\" vcodec=\"avc1.4d401e\" progressive=\"False\" type=\"video\">,\n",
       " <Stream: itag=\"396\" mime_type=\"video/mp4\" res=\"360p\" fps=\"25fps\" vcodec=\"av01.0.01M.08\" progressive=\"False\" type=\"video\">,\n",
       " <Stream: itag=\"133\" mime_type=\"video/mp4\" res=\"240p\" fps=\"25fps\" vcodec=\"avc1.4d4015\" progressive=\"False\" type=\"video\">,\n",
       " <Stream: itag=\"395\" mime_type=\"video/mp4\" res=\"240p\" fps=\"25fps\" vcodec=\"av01.0.00M.08\" progressive=\"False\" type=\"video\">,\n",
       " <Stream: itag=\"160\" mime_type=\"video/mp4\" res=\"144p\" fps=\"25fps\" vcodec=\"avc1.4d400c\" progressive=\"False\" type=\"video\">,\n",
       " <Stream: itag=\"394\" mime_type=\"video/mp4\" res=\"144p\" fps=\"25fps\" vcodec=\"av01.0.00M.08\" progressive=\"False\" type=\"video\">,\n",
       " <Stream: itag=\"139\" mime_type=\"audio/mp4\" abr=\"48kbps\" acodec=\"mp4a.40.5\" progressive=\"False\" type=\"audio\">,\n",
       " <Stream: itag=\"140\" mime_type=\"audio/mp4\" abr=\"128kbps\" acodec=\"mp4a.40.2\" progressive=\"False\" type=\"audio\">]"
      ]
     },
     "execution_count": 8,
     "metadata": {},
     "output_type": "execute_result"
    }
   ],
   "source": [
    "streams_mp4"
   ]
  },
  {
   "cell_type": "code",
   "execution_count": 9,
   "id": "a17acba6",
   "metadata": {},
   "outputs": [],
   "source": [
    "# Download and save mp4 file\n",
    "filename = 'Fireplace 10 hours full HD.mp4'\n",
    "if not os.path.isfile(os.path.join(video_dir, filename)):\n",
    "    print(\"downloading\")\n",
    "    video.streams.get_by_itag(18).download(output_path=video_dir, \n",
    "                                           filename=filename)"
   ]
  },
  {
   "cell_type": "code",
   "execution_count": null,
   "id": "2aa680ed",
   "metadata": {},
   "outputs": [],
   "source": []
  },
  {
   "cell_type": "code",
   "execution_count": null,
   "id": "53a95958",
   "metadata": {},
   "outputs": [],
   "source": []
  },
  {
   "cell_type": "code",
   "execution_count": null,
   "id": "e8774ced",
   "metadata": {},
   "outputs": [],
   "source": []
  }
 ],
 "metadata": {
  "kernelspec": {
   "display_name": "Python [conda env:torch]",
   "language": "python",
   "name": "conda-env-torch-py"
  },
  "language_info": {
   "codemirror_mode": {
    "name": "ipython",
    "version": 3
   },
   "file_extension": ".py",
   "mimetype": "text/x-python",
   "name": "python",
   "nbconvert_exporter": "python",
   "pygments_lexer": "ipython3",
   "version": "3.9.9"
  }
 },
 "nbformat": 4,
 "nbformat_minor": 5
}
