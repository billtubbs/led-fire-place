{
 "cells": [
  {
   "cell_type": "markdown",
   "id": "078776e7",
   "metadata": {},
   "source": [
    "# Process data for LED display"
   ]
  },
  {
   "cell_type": "markdown",
   "id": "86fad8bc",
   "metadata": {},
   "source": [
    "Scales and adjusts LED intensity values and converts to 'uint8'"
   ]
  },
  {
   "cell_type": "code",
   "execution_count": 1,
   "id": "1577a2cc",
   "metadata": {},
   "outputs": [],
   "source": [
    "import os\n",
    "import csv\n",
    "import datetime\n",
    "import numpy as np\n",
    "from PIL import Image\n",
    "import matplotlib.pyplot as plt"
   ]
  },
  {
   "cell_type": "code",
   "execution_count": 2,
   "id": "da8ac5a1",
   "metadata": {},
   "outputs": [],
   "source": [
    "image_dir = 'images'\n",
    "data_dir = 'data'\n",
    "\n",
    "label = 'seq_data'"
   ]
  },
  {
   "cell_type": "code",
   "execution_count": 3,
   "id": "afffca4c",
   "metadata": {},
   "outputs": [
    {
     "name": "stdout",
     "output_type": "stream",
     "text": [
      "sequence data on file:\n",
      "2022-01-01 22:16: 7\n",
      "2022-01-01 22:16: 7\n",
      "2022-01-01 22:17: 1\n",
      "2022-01-01 22:25: 2\n",
      "2022-01-01 22:31: 3\n",
      "2022-01-01 22:37: 4\n",
      "2022-01-01 22:43: 5\n",
      "2022-01-01 23:52: 6\n",
      "2022-01-02 00:00: 7\n",
      "2022-01-02 00:03: 8\n",
      "2022-01-02 00:05: 9\n",
      "2022-01-02 00:07: 10\n",
      "2022-01-02 00:10: 11\n",
      "2022-01-02 00:12: 12\n",
      "2022-01-02 00:15: 13\n",
      "2022-01-02 00:19: 14\n",
      "2022-01-02 00:21: 15\n",
      "2022-01-02 00:24: 16\n",
      "2022-01-02 00:26: 17\n",
      "2022-01-02 00:30: 18\n",
      "2022-01-02 00:33: 19\n",
      "2022-01-02 00:35: 20\n",
      "2022-01-02 00:37: 21\n",
      "2022-01-02 00:40: 22\n",
      "2022-01-02 00:43: 23\n",
      "2022-01-02 00:47: 24\n",
      "2022-01-02 00:49: 25\n",
      "2022-01-02 00:51: 26\n",
      "2022-01-02 00:55: 27\n",
      "2022-01-02 00:58: 28\n",
      "2022-01-02 01:00: 29\n",
      "2022-01-02 01:04: 30\n",
      "2022-01-02 01:06: 31\n",
      "2022-01-02 01:09: 32\n",
      "2022-01-02 01:11: 33\n",
      "2022-01-02 01:14: 34\n",
      "2022-01-02 01:16: 35\n",
      "2022-01-02 01:19: 36\n",
      "2022-01-02 01:22: 37\n",
      "2022-01-02 01:25: 38\n",
      "2022-01-02 01:28: 39\n",
      "2022-01-02 01:33: 40\n",
      "2022-01-02 01:35: 41\n",
      "2022-01-02 01:37: 42\n",
      "2022-01-02 01:39: 43\n",
      "2022-01-02 01:41: 44\n",
      "2022-01-02 01:44: 45\n",
      "2022-01-02 01:46: 46\n",
      "2022-01-02 01:48: 47\n",
      "2022-01-02 01:52: 48\n",
      "2022-01-02 01:54: 49\n",
      "2022-01-02 01:56: 50\n"
     ]
    }
   ],
   "source": [
    "#dt_string = datetime.datetime.now().strftime('%Y-%m-%d %H:%M')\n",
    "filename = f'{label}_ids.csv'\n",
    "with open(os.path.join(data_dir, filename), 'r') as f:\n",
    "    csv_reader = csv.reader(f, delimiter=',')\n",
    "    lines = [line for line in csv_reader]\n",
    "\n",
    "print(\"sequence data on file:\")\n",
    "sequences = []\n",
    "for  line in lines:\n",
    "    print(f\"{line[0]}: {line[1]}\")\n",
    "    sequences.append(line[1])"
   ]
  },
  {
   "cell_type": "code",
   "execution_count": 4,
   "id": "b339b436",
   "metadata": {},
   "outputs": [],
   "source": [
    "selected_seqs = list(range(1, 51))"
   ]
  },
  {
   "cell_type": "code",
   "execution_count": 5,
   "id": "d7fd7171",
   "metadata": {},
   "outputs": [],
   "source": [
    "rgb_data = []\n",
    "for c in range(3):\n",
    "    filename = f'{label}_rgb_{c}.csv'\n",
    "    with open(os.path.join(data_dir, filename), 'r') as f:\n",
    "        x = np.loadtxt(f, delimiter=',')\n",
    "    rgb_data.append(x)\n",
    "assert(all(len(data) == len(sequences) for data in rgb_data))"
   ]
  },
  {
   "cell_type": "code",
   "execution_count": 6,
   "id": "f073aab0",
   "metadata": {},
   "outputs": [
    {
     "data": {
      "text/plain": [
       "3"
      ]
     },
     "execution_count": 6,
     "metadata": {},
     "output_type": "execute_result"
    }
   ],
   "source": [
    "# Adjustment parameters\n",
    "\n",
    "adj_params = {\n",
    "    'mul': [96, 96, 48],\n",
    "    'power': [1, 1, 1],\n",
    "    'div': [1, 1, 1],\n",
    "    'v_min': [0, 0, 0],\n",
    "    'v_max': [96, 96, 48]\n",
    "}\n",
    "\n",
    "rgb_data_adj = []\n",
    "for c in range(3):\n",
    "    mul = adj_params['mul'][c]\n",
    "    div = adj_params['div'][c]\n",
    "    power = adj_params['power'][c]\n",
    "    v_min = adj_params['v_min'][c]\n",
    "    v_max = adj_params['v_max'][c]\n",
    "    x_data = []\n",
    "    for seq in selected_seqs:\n",
    "        x = np.clip(rgb_data[c][seq] * mul ** power / div, \n",
    "                    v_min, v_max)\n",
    "        x = x.astype('uint8')\n",
    "        x_data.append(x)\n",
    "    rgb_data_adj.append(x_data)\n",
    "\n",
    "len(rgb_data_adj)"
   ]
  },
  {
   "cell_type": "markdown",
   "id": "0a0244da",
   "metadata": {},
   "source": [
    "## Find similar points in sequence"
   ]
  },
  {
   "cell_type": "code",
   "execution_count": 7,
   "id": "a1f29a6e",
   "metadata": {},
   "outputs": [
    {
     "data": {
      "text/plain": [
       "(3, 50, 86)"
      ]
     },
     "execution_count": 7,
     "metadata": {},
     "output_type": "execute_result"
    }
   ],
   "source": [
    "np.array(rgb_data_adj).shape"
   ]
  },
  {
   "cell_type": "code",
   "execution_count": 8,
   "id": "ce16b44b",
   "metadata": {},
   "outputs": [
    {
     "data": {
      "text/plain": [
       "array([[[ 0,  1,  2,  3],\n",
       "        [ 4,  5,  6,  7],\n",
       "        [ 8,  9, 10, 11],\n",
       "        [12, 13, 14, 15],\n",
       "        [16, 17, 18, 19]],\n",
       "\n",
       "       [[20, 21, 22, 23],\n",
       "        [24, 25, 26, 27],\n",
       "        [28, 29, 30, 31],\n",
       "        [32, 33, 34, 35],\n",
       "        [36, 37, 38, 39]],\n",
       "\n",
       "       [[40, 41, 42, 43],\n",
       "        [44, 45, 46, 47],\n",
       "        [48, 49, 50, 51],\n",
       "        [52, 53, 54, 55],\n",
       "        [56, 57, 58, 59]]])"
      ]
     },
     "execution_count": 8,
     "metadata": {},
     "output_type": "execute_result"
    }
   ],
   "source": [
    "x = np.arange(3*5*4).reshape((3, 5, 4))\n",
    "x"
   ]
  },
  {
   "cell_type": "code",
   "execution_count": 9,
   "id": "07ffcae0",
   "metadata": {},
   "outputs": [
    {
     "data": {
      "text/plain": [
       "array([[[ 0,  1,  2,  3],\n",
       "        [20, 21, 22, 23],\n",
       "        [40, 41, 42, 43]],\n",
       "\n",
       "       [[ 4,  5,  6,  7],\n",
       "        [24, 25, 26, 27],\n",
       "        [44, 45, 46, 47]],\n",
       "\n",
       "       [[ 8,  9, 10, 11],\n",
       "        [28, 29, 30, 31],\n",
       "        [48, 49, 50, 51]],\n",
       "\n",
       "       [[12, 13, 14, 15],\n",
       "        [32, 33, 34, 35],\n",
       "        [52, 53, 54, 55]],\n",
       "\n",
       "       [[16, 17, 18, 19],\n",
       "        [36, 37, 38, 39],\n",
       "        [56, 57, 58, 59]]])"
      ]
     },
     "execution_count": 9,
     "metadata": {},
     "output_type": "execute_result"
    }
   ],
   "source": [
    "x.swapaxes(0, 1)"
   ]
  },
  {
   "cell_type": "code",
   "execution_count": 10,
   "id": "0453f811",
   "metadata": {},
   "outputs": [
    {
     "data": {
      "text/plain": [
       "array([[ 0,  1,  2,  3, 20, 21, 22, 23, 40, 41, 42, 43],\n",
       "       [ 4,  5,  6,  7, 24, 25, 26, 27, 44, 45, 46, 47],\n",
       "       [ 8,  9, 10, 11, 28, 29, 30, 31, 48, 49, 50, 51],\n",
       "       [12, 13, 14, 15, 32, 33, 34, 35, 52, 53, 54, 55],\n",
       "       [16, 17, 18, 19, 36, 37, 38, 39, 56, 57, 58, 59]])"
      ]
     },
     "execution_count": 10,
     "metadata": {},
     "output_type": "execute_result"
    }
   ],
   "source": [
    "x.swapaxes(0, 1).reshape(5, -1)"
   ]
  },
  {
   "cell_type": "code",
   "execution_count": 11,
   "id": "0076ae07",
   "metadata": {},
   "outputs": [
    {
     "data": {
      "text/plain": [
       "(50, 258)"
      ]
     },
     "execution_count": 11,
     "metadata": {},
     "output_type": "execute_result"
    }
   ],
   "source": [
    "# Compare pairs of values\n",
    "\n",
    "seq_data = np.array(rgb_data_adj).swapaxes(0, 1).reshape(50, -1)\n",
    "seq_data.shape"
   ]
  },
  {
   "cell_type": "code",
   "execution_count": 12,
   "id": "55c3d91d",
   "metadata": {},
   "outputs": [],
   "source": [
    "assert(np.array_equal(\n",
    "    seq_data[0, :],\n",
    "    np.array(rgb_data_adj)[:, 0, :].flatten()\n",
    "))"
   ]
  },
  {
   "cell_type": "code",
   "execution_count": 13,
   "id": "d8e60205",
   "metadata": {},
   "outputs": [
    {
     "data": {
      "text/plain": [
       "36.31782945736434"
      ]
     },
     "execution_count": 13,
     "metadata": {},
     "output_type": "execute_result"
    }
   ],
   "source": [
    "# Compute similarity between two sets of values\n",
    "def calc_differences(seq_data, i, j):\n",
    "    return ((seq_data[i, :] - seq_data[j, :]) ** 2).mean(axis=-1)\n",
    "\n",
    "calc_differences(seq_data, 1, 20)"
   ]
  },
  {
   "cell_type": "code",
   "execution_count": 14,
   "id": "58d16c01",
   "metadata": {},
   "outputs": [],
   "source": [
    "ii, jj = np.indices([50, 50])"
   ]
  },
  {
   "cell_type": "code",
   "execution_count": 15,
   "id": "b2f45cfa",
   "metadata": {},
   "outputs": [
    {
     "data": {
      "text/plain": [
       "(50, 50)"
      ]
     },
     "execution_count": 15,
     "metadata": {},
     "output_type": "execute_result"
    }
   ],
   "source": [
    "calc_differences(seq_data, ii, jj).shape"
   ]
  },
  {
   "cell_type": "code",
   "execution_count": 16,
   "id": "2f7835cd",
   "metadata": {},
   "outputs": [
    {
     "data": {
      "text/plain": [
       "True"
      ]
     },
     "execution_count": 16,
     "metadata": {},
     "output_type": "execute_result"
    }
   ],
   "source": [
    "np.array_equal(\n",
    "    calc_differences(seq_data, ii, jj),\n",
    "    ((seq_data[ii, :] - seq_data[jj, :]) ** 2).mean(axis=-1)\n",
    ")"
   ]
  },
  {
   "cell_type": "code",
   "execution_count": 17,
   "id": "b36cbf47",
   "metadata": {},
   "outputs": [
    {
     "data": {
      "image/png": "[encoded data removed]",
      "text/plain": [
       "<Figure size 432x288 with 1 Axes>"
      ]
     },
     "metadata": {
      "needs_background": "light"
     },
     "output_type": "display_data"
    }
   ],
   "source": [
    "plt.imshow(calc_differences(seq_data, ii, jj))\n",
    "plt.show()"
   ]
  },
  {
   "cell_type": "code",
   "execution_count": 72,
   "id": "aeac8e99",
   "metadata": {},
   "outputs": [
    {
     "data": {
      "text/plain": [
       "array([[14.15,  7.  ,  0.  ],\n",
       "       [14.15,  0.  ,  7.  ],\n",
       "       [16.42,  5.  ,  4.  ],\n",
       "       ...,\n",
       "       [47.56, 18.  , 46.  ],\n",
       "       [48.09,  0.  , 48.  ],\n",
       "       [48.09, 48.  ,  0.  ]])"
      ]
     },
     "execution_count": 72,
     "metadata": {},
     "output_type": "execute_result"
    }
   ],
   "source": [
    "diff_sorted = np.stack([calc_differences(seq_data, ii, jj), ii, jj], axis=2)\n",
    "diff_sorted = diff_sorted.reshape(50*50, -1)\n",
    "diff_sorted = diff_sorted[diff_sorted[:, 0].argsort(), :]\n",
    "diff_sorted = diff_sorted.round(2)\n",
    "# Drop self-comparisons\n",
    "diff_sorted = diff_sorted[50:, :]\n",
    "diff_sorted"
   ]
  },
  {
   "cell_type": "code",
   "execution_count": 81,
   "id": "2547248c",
   "metadata": {},
   "outputs": [
    {
     "data": {
      "text/plain": [
       "array([[14.15,  7.  ,  0.  ,  7.  ],\n",
       "       [14.15,  0.  ,  7.  ,  7.  ],\n",
       "       [16.42,  5.  ,  4.  ,  1.  ],\n",
       "       [16.42,  4.  ,  5.  ,  1.  ],\n",
       "       [17.03, 25.  , 26.  ,  1.  ],\n",
       "       [17.03, 26.  , 25.  ,  1.  ],\n",
       "       [20.05, 20.  , 21.  ,  1.  ],\n",
       "       [20.05, 21.  , 20.  ,  1.  ],\n",
       "       [21.16, 25.  , 24.  ,  1.  ],\n",
       "       [21.16, 24.  , 25.  ,  1.  ],\n",
       "       [21.71, 43.  , 44.  ,  1.  ],\n",
       "       [21.71, 44.  , 43.  ,  1.  ],\n",
       "       [22.62, 37.  , 38.  ,  1.  ],\n",
       "       [22.62, 38.  , 37.  ,  1.  ],\n",
       "       [22.63, 43.  , 42.  ,  1.  ],\n",
       "       [22.63, 42.  , 43.  ,  1.  ],\n",
       "       [22.8 ,  4.  ,  3.  ,  1.  ],\n",
       "       [22.8 ,  3.  ,  4.  ,  1.  ],\n",
       "       [23.26, 16.  , 17.  ,  1.  ],\n",
       "       [23.26, 17.  , 16.  ,  1.  ],\n",
       "       [23.61, 48.  , 49.  ,  1.  ],\n",
       "       [23.61, 49.  , 48.  ,  1.  ],\n",
       "       [24.9 , 21.  , 22.  ,  1.  ],\n",
       "       [24.9 , 22.  , 21.  ,  1.  ],\n",
       "       [25.26, 11.  , 10.  ,  1.  ],\n",
       "       [25.26, 10.  , 11.  ,  1.  ],\n",
       "       [25.3 , 41.  , 43.  ,  2.  ],\n",
       "       [25.3 , 43.  , 41.  ,  2.  ],\n",
       "       [25.38,  5.  ,  3.  ,  2.  ],\n",
       "       [25.38,  3.  ,  5.  ,  2.  ],\n",
       "       [25.49, 42.  , 41.  ,  1.  ],\n",
       "       [25.49, 41.  , 42.  ,  1.  ],\n",
       "       [25.66, 15.  , 24.  ,  9.  ],\n",
       "       [25.66, 24.  , 15.  ,  9.  ],\n",
       "       [25.72, 19.  , 18.  ,  1.  ],\n",
       "       [25.72, 18.  , 19.  ,  1.  ],\n",
       "       [25.82, 16.  , 15.  ,  1.  ],\n",
       "       [25.82, 15.  , 16.  ,  1.  ],\n",
       "       [25.87, 36.  , 35.  ,  1.  ],\n",
       "       [25.87, 35.  , 36.  ,  1.  ],\n",
       "       [25.95, 31.  , 30.  ,  1.  ],\n",
       "       [25.95, 30.  , 31.  ,  1.  ],\n",
       "       [25.95, 24.  , 26.  ,  2.  ],\n",
       "       [25.95, 26.  , 24.  ,  2.  ],\n",
       "       [26.23, 42.  , 44.  ,  2.  ],\n",
       "       [26.23, 44.  , 42.  ,  2.  ],\n",
       "       [26.27, 31.  , 16.  , 15.  ],\n",
       "       [26.27, 16.  , 31.  , 15.  ],\n",
       "       [26.33, 36.  , 37.  ,  1.  ],\n",
       "       [26.33, 37.  , 36.  ,  1.  ],\n",
       "       [26.43,  7.  ,  6.  ,  1.  ],\n",
       "       [26.43,  6.  ,  7.  ,  1.  ],\n",
       "       [26.86, 28.  , 29.  ,  1.  ],\n",
       "       [26.86, 29.  , 28.  ,  1.  ],\n",
       "       [26.87, 41.  , 40.  ,  1.  ],\n",
       "       [26.87, 40.  , 41.  ,  1.  ],\n",
       "       [26.87, 16.  , 43.  , 27.  ],\n",
       "       [26.87, 43.  , 16.  , 27.  ],\n",
       "       [26.88,  1.  , 14.  , 13.  ],\n",
       "       [26.88, 14.  ,  1.  , 13.  ],\n",
       "       [26.9 , 43.  , 11.  , 32.  ],\n",
       "       [26.9 , 11.  , 43.  , 32.  ],\n",
       "       [26.91, 12.  , 43.  , 31.  ],\n",
       "       [26.91, 43.  , 12.  , 31.  ],\n",
       "       [27.12, 34.  , 33.  ,  1.  ],\n",
       "       [27.12, 33.  , 34.  ,  1.  ],\n",
       "       [27.34, 42.  , 40.  ,  2.  ],\n",
       "       [27.34, 40.  , 42.  ,  2.  ],\n",
       "       [27.49, 24.  , 43.  , 19.  ],\n",
       "       [27.49, 43.  , 24.  , 19.  ],\n",
       "       [27.7 , 49.  , 16.  , 33.  ],\n",
       "       [27.7 , 16.  , 49.  , 33.  ],\n",
       "       [27.74, 12.  , 20.  ,  8.  ],\n",
       "       [27.74, 20.  , 12.  ,  8.  ],\n",
       "       [27.75, 11.  , 42.  , 31.  ],\n",
       "       [27.75,  2.  ,  3.  ,  1.  ],\n",
       "       [27.75, 42.  , 11.  , 31.  ],\n",
       "       [27.75,  3.  ,  2.  ,  1.  ],\n",
       "       [27.88, 43.  , 15.  , 28.  ],\n",
       "       [27.88, 15.  , 43.  , 28.  ],\n",
       "       [27.95, 43.  , 26.  , 17.  ],\n",
       "       [27.95, 26.  , 43.  , 17.  ],\n",
       "       [28.05, 11.  , 25.  , 14.  ],\n",
       "       [28.05, 25.  , 11.  , 14.  ],\n",
       "       [28.16,  8.  ,  7.  ,  1.  ],\n",
       "       [28.16,  7.  ,  8.  ,  1.  ],\n",
       "       [28.24, 39.  , 38.  ,  1.  ],\n",
       "       [28.24, 38.  , 39.  ,  1.  ],\n",
       "       [28.25, 19.  , 15.  ,  4.  ],\n",
       "       [28.25, 15.  , 19.  ,  4.  ],\n",
       "       [28.26, 44.  , 45.  ,  1.  ],\n",
       "       [28.26, 45.  , 44.  ,  1.  ],\n",
       "       [28.31, 32.  , 10.  , 22.  ],\n",
       "       [28.31, 10.  , 32.  , 22.  ],\n",
       "       [28.5 , 24.  , 23.  ,  1.  ],\n",
       "       [28.5 , 23.  , 24.  ,  1.  ],\n",
       "       [28.55, 34.  , 35.  ,  1.  ],\n",
       "       [28.55, 35.  , 34.  ,  1.  ],\n",
       "       [28.7 , 21.  , 10.  , 11.  ],\n",
       "       [28.7 , 10.  , 21.  , 11.  ],\n",
       "       [28.74,  9.  ,  8.  ,  1.  ],\n",
       "       [28.74, 20.  , 43.  , 23.  ],\n",
       "       [28.74,  8.  ,  9.  ,  1.  ],\n",
       "       [28.74, 43.  , 20.  , 23.  ],\n",
       "       [28.88, 17.  , 18.  ,  1.  ],\n",
       "       [28.88, 18.  , 17.  ,  1.  ],\n",
       "       [28.93, 12.  , 11.  ,  1.  ],\n",
       "       [28.93, 11.  , 12.  ,  1.  ],\n",
       "       [28.98, 22.  ,  7.  , 15.  ],\n",
       "       [28.98,  7.  , 22.  , 15.  ],\n",
       "       [29.  , 15.  , 17.  ,  2.  ],\n",
       "       [29.  , 17.  , 15.  ,  2.  ],\n",
       "       [29.05, 23.  , 49.  , 26.  ],\n",
       "       [29.05, 49.  , 23.  , 26.  ],\n",
       "       [29.08,  1.  , 27.  , 26.  ],\n",
       "       [29.08, 27.  ,  1.  , 26.  ],\n",
       "       [29.16, 17.  , 20.  ,  3.  ],\n",
       "       [29.16, 20.  , 17.  ,  3.  ],\n",
       "       [29.28, 39.  ,  1.  , 38.  ],\n",
       "       [29.28,  1.  , 39.  , 38.  ],\n",
       "       [29.28, 16.  , 10.  ,  6.  ],\n",
       "       [29.28, 10.  , 16.  ,  6.  ],\n",
       "       [29.32,  9.  , 22.  , 13.  ],\n",
       "       [29.32, 22.  ,  9.  , 13.  ],\n",
       "       [29.33, 15.  , 25.  , 10.  ],\n",
       "       [29.33, 25.  , 15.  , 10.  ],\n",
       "       [29.35, 33.  , 29.  ,  4.  ],\n",
       "       [29.35, 29.  , 33.  ,  4.  ],\n",
       "       [29.36,  7.  ,  5.  ,  2.  ],\n",
       "       [29.36,  5.  ,  7.  ,  2.  ],\n",
       "       [29.38,  1.  , 25.  , 24.  ],\n",
       "       [29.38, 25.  ,  1.  , 24.  ],\n",
       "       [29.56, 37.  , 25.  , 12.  ],\n",
       "       [29.56, 25.  , 37.  , 12.  ],\n",
       "       [29.61, 29.  , 36.  ,  7.  ],\n",
       "       [29.61, 36.  , 29.  ,  7.  ],\n",
       "       [29.64,  9.  ,  6.  ,  3.  ],\n",
       "       [29.64,  6.  ,  9.  ,  3.  ],\n",
       "       [29.66, 36.  , 33.  ,  3.  ],\n",
       "       [29.66, 33.  , 36.  ,  3.  ],\n",
       "       [29.69, 15.  , 14.  ,  1.  ],\n",
       "       [29.69, 14.  , 15.  ,  1.  ],\n",
       "       [29.79, 29.  , 23.  ,  6.  ],\n",
       "       [29.79, 23.  , 29.  ,  6.  ],\n",
       "       [29.8 , 12.  , 13.  ,  1.  ],\n",
       "       [29.8 , 13.  , 12.  ,  1.  ],\n",
       "       [29.84, 11.  , 16.  ,  5.  ],\n",
       "       [29.84, 16.  , 11.  ,  5.  ],\n",
       "       [29.86, 20.  , 16.  ,  4.  ],\n",
       "       [29.86, 16.  , 20.  ,  4.  ]])"
      ]
     },
     "execution_count": 81,
     "metadata": {},
     "output_type": "execute_result"
    }
   ],
   "source": [
    "# Find biggest distance between matches\n",
    "d = diff_sorted[:150]\n",
    "np.hstack([d, np.abs(d[:, 2] - d[:, 1]).reshape(-1, 1)])"
   ]
  },
  {
   "cell_type": "code",
   "execution_count": null,
   "id": "cceab9c9",
   "metadata": {},
   "outputs": [],
   "source": []
  },
  {
   "cell_type": "markdown",
   "id": "1f605ded",
   "metadata": {},
   "source": [
    "## Print output"
   ]
  },
  {
   "cell_type": "code",
   "execution_count": 83,
   "id": "db372d8f",
   "metadata": {
    "scrolled": false
   },
   "outputs": [
    {
     "name": "stdout",
     "output_type": "stream",
     "text": [
      "Frame interval: 40.0\n",
      "\n",
      "// Data for R\n",
      "\n",
      "4, 50, 36, 31, 30, 26, 26, 54, 87, 67, 67, 67, 39, 33, 36, 51, 52, 26, 42, 68, 56, 22, 26, 6, 36, 6, 32, 51, 42, 6, 28, 19, 3, 19, 6, 32, 41, 6, 19, 22, 16, 7, 3, 32, 81, 65, 81, 62, 90, 90, 53, 49, 90, 26, 76, 78, 90, 62, 59, 76, 82, 70, 90, 64, 64, 78, 90, 90, 90, 62, 70, 90, 32, 90, 90, 81, 90, 66, 48, 69, 89, 59, 90, 87, 81, 59,\n",
      "23, 50, 38, 32, 41, 71, 45, 56, 77, 64, 68, 43, 36, 34, 38, 28, 34, 44, 38, 58, 33, 20, 23, 28, 28, 22, 31, 37, 51, 26, 28, 18, 11, 20, 24, 24, 32, 13, 13, 21, 14, 24, 14, 33, 83, 68, 80, 61, 95, 95, 52, 62, 92, 23, 76, 74, 85, 65, 56, 79, 85, 72, 89, 93, 71, 23, 87, 94, 86, 64, 59, 78, 80, 92, 95, 93, 95, 64, 44, 59, 81, 81, 89, 67, 37, 23,\n",
      "23, 50, 37, 29, 27, 23, 41, 70, 80, 23, 85, 58, 36, 34, 35, 23, 48, 52, 41, 29, 21, 21, 22, 23, 28, 23, 21, 60, 32, 25, 28, 18, 11, 20, 22, 23, 27, 20, 20, 21, 14, 19, 16, 34, 86, 74, 85, 64, 95, 95, 58, 63, 95, 23, 74, 79, 87, 63, 56, 77, 84, 70, 81, 92, 65, 54, 90, 93, 88, 65, 52, 89, 85, 92, 93, 89, 66, 23, 35, 48, 74, 82, 79, 79, 89, 23,\n",
      "23, 51, 37, 29, 27, 23, 75, 78, 75, 64, 65, 52, 36, 33, 34, 23, 37, 23, 23, 30, 21, 21, 22, 23, 27, 21, 9, 49, 34, 34, 28, 18, 0, 21, 22, 23, 49, 39, 20, 21, 14, 19, 14, 33, 83, 72, 83, 64, 95, 95, 57, 57, 94, 89, 75, 78, 85, 60, 26, 79, 88, 69, 85, 89, 83, 23, 61, 95, 95, 68, 65, 88, 91, 85, 91, 81, 59, 23, 35, 47, 94, 85, 37, 60, 69, 57,\n",
      "23, 59, 37, 29, 29, 23, 94, 74, 80, 60, 23, 52, 36, 33, 39, 23, 50, 60, 59, 46, 28, 21, 22, 25, 56, 23, 51, 23, 35, 25, 28, 18, 0, 19, 23, 35, 37, 0, 20, 21, 14, 19, 14, 33, 82, 70, 84, 67, 95, 95, 60, 52, 95, 23, 84, 72, 88, 61, 41, 80, 86, 68, 86, 66, 66, 23, 92, 95, 93, 65, 72, 84, 94, 93, 95, 81, 90, 23, 34, 51, 93, 37, 37, 58, 71, 65,\n",
      "23, 51, 37, 30, 30, 23, 78, 37, 73, 60, 57, 66, 45, 34, 45, 23, 45, 68, 23, 46, 23, 21, 23, 28, 82, 61, 52, 53, 34, 31, 29, 18, 0, 17, 22, 23, 43, 35, 19, 21, 15, 22, 17, 33, 80, 72, 83, 66, 95, 95, 57, 52, 95, 23, 84, 81, 92, 61, 41, 81, 84, 70, 82, 84, 64, 55, 91, 95, 94, 64, 62, 90, 92, 95, 95, 79, 61, 23, 35, 52, 86, 71, 95, 62, 78, 61,\n",
      "23, 51, 37, 31, 32, 23, 78, 61, 81, 66, 23, 50, 37, 34, 34, 37, 47, 62, 54, 60, 41, 22, 24, 32, 74, 23, 43, 56, 40, 26, 28, 18, 11, 20, 25, 36, 39, 27, 21, 23, 13, 21, 14, 31, 80, 69, 83, 67, 95, 95, 56, 39, 95, 23, 79, 84, 93, 61, 53, 80, 80, 74, 89, 62, 62, 23, 90, 94, 95, 60, 58, 95, 23, 95, 95, 73, 90, 62, 44, 74, 73, 37, 95, 77, 79, 64,\n",
      "23, 50, 38, 32, 32, 23, 45, 54, 84, 65, 67, 68, 39, 34, 37, 50, 57, 23, 42, 70, 55, 23, 24, 23, 38, 23, 32, 52, 41, 25, 28, 18, 12, 20, 25, 23, 42, 25, 20, 23, 13, 17, 16, 31, 81, 66, 81, 60, 94, 95, 54, 50, 95, 23, 78, 77, 90, 61, 52, 76, 81, 71, 94, 65, 64, 56, 91, 94, 95, 62, 69, 95, 23, 95, 93, 81, 95, 66, 49, 67, 88, 60, 95, 84, 82, 60,\n",
      "23, 56, 41, 34, 33, 72, 23, 56, 94, 58, 23, 57, 38, 34, 40, 31, 60, 23, 43, 45, 29, 22, 24, 29, 29, 24, 14, 49, 36, 28, 29, 18, 9, 23, 26, 23, 38, 0, 23, 25, 13, 8, 16, 31, 81, 65, 78, 60, 95, 95, 53, 49, 91, 23, 70, 72, 92, 65, 53, 80, 95, 80, 95, 94, 69, 23, 92, 95, 93, 64, 74, 93, 75, 95, 95, 88, 95, 81, 58, 81, 83, 63, 89, 63, 71, 69,\n",
      "23, 54, 40, 34, 38, 68, 23, 89, 80, 58, 69, 73, 40, 34, 56, 39, 52, 83, 52, 38, 24, 22, 24, 26, 29, 27, 51, 73, 36, 27, 30, 18, 12, 17, 0, 23, 48, 40, 26, 23, 14, 17, 14, 31, 82, 63, 79, 70, 95, 95, 54, 49, 91, 23, 73, 74, 91, 68, 20, 73, 85, 82, 93, 77, 68, 23, 93, 95, 93, 62, 61, 91, 23, 93, 95, 91, 89, 63, 53, 73, 72, 94, 89, 61, 69, 69,\n",
      "23, 23, 40, 35, 51, 82, 56, 37, 23, 47, 23, 75, 35, 34, 52, 52, 23, 70, 55, 57, 23, 14, 37, 29, 34, 27, 41, 55, 32, 23, 35, 18, 13, 27, 22, 23, 41, 23, 20, 23, 14, 18, 14, 32, 82, 60, 81, 68, 95, 95, 57, 53, 87, 23, 74, 68, 89, 71, 21, 73, 80, 83, 93, 90, 68, 23, 87, 75, 92, 63, 64, 83, 23, 91, 95, 91, 92, 67, 56, 64, 69, 70, 91, 58, 66, 71,\n",
      "23, 23, 39, 34, 38, 80, 56, 76, 23, 46, 23, 41, 32, 32, 35, 29, 31, 23, 63, 54, 40, 23, 32, 28, 38, 23, 54, 41, 29, 25, 25, 17, 9, 19, 14, 23, 38, 23, 19, 20, 14, 20, 14, 35, 83, 61, 85, 75, 95, 95, 54, 50, 93, 23, 69, 65, 89, 75, 22, 72, 78, 76, 89, 94, 67, 23, 84, 89, 93, 57, 59, 86, 23, 91, 95, 93, 95, 57, 55, 63, 75, 78, 80, 23, 48, 55,\n",
      "0, 50, 39, 34, 32, 23, 54, 65, 66, 51, 63, 50, 32, 32, 31, 23, 34, 23, 23, 39, 24, 23, 24, 27, 47, 47, 54, 31, 29, 24, 25, 17, 11, 19, 14, 22, 27, 21, 19, 20, 13, 17, 15, 37, 84, 71, 82, 63, 95, 95, 53, 54, 94, 23, 72, 75, 90, 75, 55, 86, 84, 71, 89, 92, 67, 54, 87, 93, 75, 61, 60, 95, 70, 91, 95, 95, 95, 64, 46, 69, 79, 92, 83, 23, 68, 23,\n",
      "23, 51, 41, 36, 38, 85, 62, 80, 59, 57, 93, 95, 36, 32, 29, 23, 45, 66, 55, 38, 24, 24, 24, 26, 43, 23, 29, 42, 31, 23, 27, 18, 11, 15, 20, 23, 28, 23, 19, 21, 14, 11, 14, 31, 82, 78, 85, 64, 95, 95, 55, 54, 94, 94, 70, 78, 88, 75, 58, 85, 87, 73, 89, 93, 69, 23, 94, 92, 82, 65, 71, 93, 91, 95, 95, 94, 84, 62, 48, 68, 87, 80, 81, 59, 93, 57,\n",
      "22, 46, 35, 31, 30, 74, 65, 64, 62, 66, 77, 74, 47, 32, 36, 60, 23, 56, 57, 55, 23, 22, 23, 28, 34, 33, 48, 31, 54, 35, 26, 17, 11, 19, 27, 22, 30, 13, 14, 23, 14, 6, 16, 31, 81, 73, 83, 76, 95, 95, 53, 53, 95, 94, 74, 72, 87, 73, 68, 80, 77, 72, 83, 90, 66, 23, 87, 92, 90, 64, 58, 76, 23, 95, 94, 86, 92, 23, 37, 56, 84, 64, 83, 58, 73, 23,\n",
      "0, 44, 35, 29, 29, 65, 56, 23, 23, 50, 41, 36, 31, 31, 31, 23, 32, 42, 32, 29, 23, 21, 22, 27, 25, 21, 26, 29, 27, 25, 26, 16, 11, 19, 14, 22, 24, 19, 18, 19, 13, 10, 14, 30, 81, 66, 81, 71, 95, 95, 51, 49, 95, 23, 71, 68, 88, 73, 86, 78, 76, 65, 86, 64, 62, 23, 88, 88, 89, 70, 48, 59, 64, 94, 95, 84, 92, 23, 40, 23, 71, 76, 95, 23, 23, 39,\n",
      "14, 51, 38, 32, 34, 85, 61, 77, 77, 54, 43, 36, 31, 30, 29, 27, 33, 77, 58, 68, 51, 21, 22, 27, 49, 36, 43, 50, 27, 24, 25, 16, 11, 19, 14, 23, 35, 14, 17, 19, 13, 13, 15, 30, 83, 67, 81, 53, 95, 93, 55, 52, 93, 23, 81, 69, 89, 75, 95, 81, 86, 75, 93, 64, 62, 59, 85, 83, 88, 64, 55, 57, 66, 95, 94, 83, 91, 59, 43, 64, 69, 78, 88, 59, 23, 23,\n",
      "23, 54, 40, 33, 32, 23, 50, 23, 46, 53, 68, 38, 32, 31, 42, 14, 32, 39, 47, 32, 24, 22, 22, 27, 34, 34, 35, 30, 27, 24, 26, 16, 11, 14, 14, 13, 37, 23, 17, 19, 14, 16, 14, 31, 81, 66, 79, 54, 95, 95, 61, 55, 95, 23, 67, 72, 89, 76, 94, 78, 91, 85, 95, 66, 64, 23, 87, 93, 85, 62, 55, 89, 23, 89, 95, 87, 93, 71, 45, 80, 69, 82, 60, 59, 79, 23,\n",
      "23, 23, 41, 38, 57, 92, 68, 23, 50, 50, 57, 55, 41, 31, 41, 33, 33, 43, 43, 42, 23, 22, 13, 26, 33, 24, 22, 30, 35, 23, 27, 17, 8, 14, 14, 13, 25, 21, 18, 20, 13, 14, 14, 31, 82, 63, 81, 80, 95, 95, 65, 64, 95, 23, 68, 82, 93, 75, 93, 74, 88, 81, 90, 95, 81, 23, 87, 92, 89, 64, 61, 83, 23, 92, 93, 90, 95, 65, 50, 87, 83, 75, 63, 58, 63, 23,\n",
      "23, 23, 38, 33, 32, 23, 75, 23, 53, 62, 23, 43, 52, 36, 36, 32, 36, 39, 23, 40, 23, 24, 22, 26, 30, 25, 31, 31, 30, 25, 28, 19, 11, 21, 13, 23, 25, 21, 18, 21, 12, 17, 14, 31, 82, 72, 84, 71, 95, 95, 62, 58, 93, 58, 69, 79, 92, 73, 85, 76, 77, 74, 88, 93, 82, 23, 88, 88, 89, 66, 60, 76, 23, 93, 94, 95, 87, 58, 40, 60, 91, 85, 74, 68, 55, 23,\n",
      "0, 50, 38, 34, 35, 85, 80, 72, 63, 23, 53, 74, 38, 35, 44, 23, 37, 23, 23, 57, 31, 23, 23, 28, 32, 24, 34, 32, 30, 22, 28, 19, 11, 14, 17, 24, 25, 20, 19, 21, 12, 14, 14, 31, 81, 74, 75, 47, 95, 95, 56, 59, 91, 82, 67, 76, 92, 69, 72, 76, 79, 77, 88, 92, 69, 23, 94, 91, 95, 73, 60, 92, 65, 91, 95, 89, 93, 59, 47, 63, 79, 81, 86, 57, 23, 60,\n",
      "23, 47, 39, 34, 36, 75, 54, 76, 23, 52, 70, 82, 37, 34, 52, 54, 36, 56, 52, 55, 23, 23, 24, 28, 31, 25, 33, 33, 31, 24, 27, 18, 12, 14, 14, 24, 27, 22, 20, 22, 13, 11, 14, 31, 81, 66, 80, 55, 95, 95, 51, 56, 93, 23, 71, 74, 91, 67, 57, 66, 73, 77, 93, 85, 69, 23, 95, 94, 94, 75, 69, 95, 85, 95, 95, 87, 93, 62, 55, 60, 78, 89, 87, 63, 74, 62,\n",
      "14, 47, 39, 34, 35, 69, 64, 91, 81, 76, 23, 69, 37, 34, 39, 42, 60, 75, 56, 39, 27, 23, 24, 28, 33, 27, 42, 42, 31, 24, 28, 18, 9, 20, 13, 23, 36, 22, 19, 21, 12, 21, 14, 31, 82, 67, 79, 53, 95, 95, 56, 66, 91, 23, 67, 77, 91, 69, 45, 69, 75, 82, 95, 92, 68, 23, 90, 92, 81, 74, 60, 91, 23, 95, 95, 91, 95, 72, 59, 72, 92, 92, 92, 76, 78, 61,\n",
      "0, 23, 37, 31, 26, 60, 23, 23, 23, 60, 23, 53, 29, 30, 32, 54, 49, 73, 51, 38, 24, 21, 23, 26, 31, 25, 45, 51, 31, 42, 25, 16, 12, 21, 20, 23, 47, 23, 19, 24, 13, 25, 14, 31, 81, 70, 80, 76, 95, 95, 53, 48, 94, 62, 76, 75, 90, 70, 37, 66, 76, 81, 95, 89, 66, 23, 92, 94, 90, 62, 53, 57, 23, 95, 95, 87, 87, 73, 52, 58, 85, 78, 79, 80, 77, 23,\n",
      "23, 47, 39, 31, 29, 72, 44, 23, 74, 54, 38, 33, 29, 29, 27, 25, 60, 41, 35, 29, 21, 21, 22, 23, 24, 20, 14, 39, 27, 22, 23, 16, 9, 19, 14, 37, 21, 22, 19, 19, 10, 28, 14, 30, 82, 68, 79, 69, 95, 95, 52, 54, 95, 65, 64, 72, 86, 68, 45, 71, 78, 76, 91, 92, 67, 48, 89, 93, 86, 59, 54, 23, 74, 89, 95, 82, 93, 23, 50, 57, 60, 63, 80, 73, 23, 23,\n",
      "0, 51, 42, 31, 42, 82, 43, 23, 23, 53, 40, 36, 29, 29, 27, 26, 36, 33, 35, 35, 0, 20, 22, 24, 24, 20, 13, 23, 26, 21, 23, 16, 9, 17, 14, 32, 22, 23, 19, 18, 10, 28, 14, 30, 83, 63, 76, 57, 95, 95, 50, 41, 92, 56, 66, 58, 86, 67, 46, 67, 84, 78, 84, 93, 68, 23, 88, 90, 86, 56, 70, 61, 65, 88, 95, 92, 89, 56, 48, 57, 70, 72, 71, 56, 23, 23,\n",
      "23, 23, 41, 33, 45, 74, 71, 86, 68, 45, 47, 52, 33, 29, 25, 26, 34, 23, 37, 51, 23, 13, 21, 24, 25, 21, 14, 23, 27, 21, 24, 16, 10, 17, 14, 25, 14, 21, 18, 18, 10, 32, 14, 30, 87, 63, 75, 55, 95, 95, 49, 45, 93, 58, 64, 65, 90, 65, 42, 72, 83, 76, 82, 91, 67, 47, 88, 93, 95, 58, 74, 94, 82, 91, 95, 87, 89, 23, 45, 57, 74, 95, 89, 61, 23, 81,\n",
      "23, 53, 42, 39, 41, 23, 75, 75, 23, 62, 92, 70, 34, 30, 51, 45, 44, 78, 74, 80, 23, 23, 26, 45, 40, 23, 23, 47, 31, 34, 26, 16, 9, 26, 20, 23, 40, 23, 17, 21, 10, 31, 14, 33, 87, 60, 79, 51, 95, 93, 48, 55, 94, 23, 74, 77, 95, 67, 20, 74, 87, 73, 88, 95, 67, 23, 87, 92, 87, 63, 63, 88, 23, 94, 95, 80, 95, 71, 49, 77, 82, 75, 90, 62, 75, 61,\n",
      "0, 60, 40, 34, 35, 60, 66, 66, 23, 23, 46, 39, 41, 30, 36, 43, 44, 73, 23, 53, 23, 24, 26, 30, 31, 25, 36, 23, 52, 14, 31, 16, 10, 24, 23, 54, 62, 23, 13, 24, 10, 28, 14, 32, 84, 69, 77, 49, 95, 95, 52, 57, 86, 60, 71, 77, 95, 71, 59, 74, 76, 69, 81, 84, 70, 23, 88, 95, 95, 72, 68, 92, 83, 89, 95, 80, 91, 58, 48, 69, 82, 75, 89, 54, 23, 23,\n",
      "0, 47, 40, 34, 35, 76, 71, 68, 62, 60, 50, 72, 35, 30, 36, 49, 40, 66, 54, 62, 23, 22, 25, 29, 32, 25, 52, 23, 29, 25, 27, 17, 12, 19, 21, 32, 59, 23, 19, 21, 11, 32, 14, 32, 81, 74, 74, 51, 95, 95, 53, 50, 85, 93, 70, 69, 91, 73, 25, 72, 76, 75, 89, 95, 82, 23, 66, 88, 94, 62, 73, 82, 81, 90, 95, 83, 93, 58, 46, 59, 90, 77, 75, 67, 23, 79,\n",
      "0, 48, 37, 32, 32, 23, 61, 62, 73, 45, 40, 67, 30, 30, 45, 53, 33, 23, 23, 63, 45, 22, 23, 35, 29, 14, 23, 33, 27, 34, 25, 16, 8, 23, 14, 21, 22, 19, 18, 19, 10, 25, 14, 31, 80, 66, 77, 64, 95, 95, 53, 46, 85, 91, 72, 72, 87, 74, 67, 76, 85, 76, 91, 91, 72, 23, 93, 95, 76, 57, 59, 86, 92, 88, 92, 84, 93, 23, 38, 68, 77, 70, 87, 54, 23, 66,\n",
      "23, 49, 36, 31, 30, 23, 62, 72, 71, 70, 23, 63, 29, 30, 61, 23, 37, 73, 59, 65, 51, 21, 23, 31, 42, 36, 53, 42, 27, 33, 24, 16, 9, 16, 14, 23, 45, 23, 18, 20, 12, 26, 14, 30, 84, 64, 78, 51, 95, 90, 49, 53, 92, 23, 76, 69, 88, 75, 67, 71, 84, 80, 93, 90, 90, 73, 91, 92, 88, 53, 55, 76, 80, 89, 95, 72, 92, 23, 39, 54, 72, 72, 90, 79, 23, 69,\n",
      "23, 23, 36, 31, 31, 70, 53, 23, 55, 47, 52, 66, 35, 30, 62, 23, 47, 67, 23, 39, 23, 21, 22, 24, 33, 26, 38, 45, 29, 22, 40, 16, 9, 16, 13, 30, 55, 23, 19, 20, 11, 30, 14, 31, 84, 60, 77, 55, 95, 95, 53, 55, 93, 23, 70, 67, 88, 74, 55, 70, 81, 75, 95, 94, 94, 23, 87, 91, 95, 63, 73, 92, 67, 91, 88, 77, 94, 60, 45, 58, 69, 54, 87, 23, 59, 76,\n",
      "0, 53, 36, 31, 32, 82, 53, 67, 23, 59, 23, 82, 36, 31, 64, 59, 23, 23, 38, 43, 28, 21, 23, 25, 27, 22, 14, 31, 29, 36, 34, 20, 12, 38, 14, 23, 25, 22, 19, 20, 10, 30, 14, 31, 84, 67, 74, 54, 95, 95, 58, 49, 93, 76, 77, 69, 87, 73, 49, 70, 86, 67, 93, 91, 93, 23, 90, 88, 94, 63, 73, 89, 79, 88, 95, 88, 95, 68, 48, 69, 82, 37, 89, 66, 61, 67,\n",
      "23, 55, 38, 32, 32, 77, 57, 74, 67, 62, 82, 59, 38, 31, 40, 23, 48, 23, 44, 35, 36, 21, 23, 32, 27, 23, 14, 45, 28, 27, 28, 17, 13, 24, 13, 29, 24, 22, 19, 21, 10, 22, 14, 32, 83, 64, 84, 52, 95, 95, 49, 50, 94, 23, 80, 70, 87, 79, 59, 76, 85, 70, 95, 90, 84, 79, 91, 66, 91, 57, 61, 93, 88, 89, 93, 91, 94, 65, 47, 80, 80, 37, 37, 67, 59, 67,\n",
      "23, 52, 39, 32, 34, 85, 68, 62, 53, 60, 75, 70, 36, 31, 29, 23, 34, 23, 58, 61, 41, 21, 24, 25, 34, 0, 23, 33, 52, 21, 26, 16, 11, 20, 27, 24, 24, 22, 14, 20, 13, 21, 14, 32, 86, 68, 84, 48, 95, 95, 60, 48, 95, 56, 79, 66, 87, 80, 55, 76, 87, 72, 95, 91, 74, 86, 87, 88, 91, 56, 57, 81, 83, 93, 93, 74, 93, 69, 45, 66, 75, 23, 80, 60, 75, 78,\n",
      "23, 52, 40, 32, 32, 23, 23, 61, 84, 49, 23, 75, 39, 33, 49, 43, 40, 23, 38, 41, 23, 21, 23, 26, 32, 25, 25, 32, 35, 21, 30, 17, 11, 13, 24, 24, 24, 22, 19, 21, 13, 30, 9, 32, 86, 73, 81, 51, 95, 95, 55, 52, 94, 81, 81, 71, 88, 81, 56, 75, 92, 73, 95, 95, 89, 85, 64, 83, 91, 58, 65, 86, 59, 87, 95, 87, 95, 61, 46, 60, 83, 37, 76, 23, 50, 81,\n",
      "23, 52, 40, 33, 33, 75, 79, 78, 82, 55, 59, 69, 46, 34, 63, 23, 41, 77, 61, 39, 23, 22, 23, 26, 31, 26, 43, 63, 33, 23, 30, 18, 11, 17, 23, 36, 40, 23, 21, 21, 11, 30, 14, 32, 82, 71, 85, 65, 95, 95, 48, 46, 95, 23, 70, 68, 86, 80, 62, 76, 86, 71, 94, 94, 81, 23, 93, 95, 95, 58, 67, 95, 89, 92, 95, 91, 88, 61, 47, 60, 95, 79, 37, 23, 59, 79,\n",
      "23, 53, 40, 35, 35, 69, 65, 76, 77, 71, 23, 65, 43, 35, 71, 41, 23, 23, 23, 53, 42, 23, 24, 31, 34, 25, 37, 43, 33, 23, 37, 19, 21, 26, 23, 28, 42, 23, 20, 22, 11, 26, 16, 31, 84, 71, 81, 57, 95, 95, 50, 56, 92, 58, 79, 69, 84, 78, 75, 79, 86, 69, 93, 95, 71, 75, 91, 92, 93, 61, 67, 95, 92, 91, 95, 95, 93, 62, 51, 71, 95, 90, 86, 79, 56, 77\n",
      "\n",
      "// Data for G\n",
      "\n",
      "3, 0, 0, 0, 3, 30, 13, 13, 41, 26, 0, 18, 0, 0, 0, 5, 12, 0, 7, 8, 12, 0, 0, 0, 5, 0, 4, 6, 6, 4, 0, 0, 0, 0, 0, 4, 0, 5, 0, 0, 6, 0, 5, 3, 57, 45, 66, 9, 51, 29, 9, 12, 51, 23, 43, 38, 69, 23, 17, 38, 26, 9, 64, 23, 41, 23, 67, 74, 88, 3, 8, 87, 23, 75, 55, 33, 74, 23, 0, 16, 27, 14, 23, 39, 38, 0,\n",
      "0, 4, 0, 0, 0, 22, 0, 10, 14, 16, 22, 6, 0, 0, 3, 0, 7, 0, 4, 11, 0, 0, 0, 0, 0, 0, 0, 0, 9, 2, 0, 0, 0, 0, 0, 0, 0, 0, 0, 0, 7, 8, 7, 16, 61, 35, 57, 0, 53, 39, 8, 33, 74, 14, 43, 43, 70, 24, 6, 39, 31, 11, 36, 94, 23, 28, 53, 57, 59, 1, 4, 0, 39, 50, 61, 23, 62, 13, 4, 7, 9, 18, 50, 21, 13, 0,\n",
      "0, 4, 0, 0, 0, 6, 7, 13, 39, 22, 0, 8, 0, 0, 2, 0, 10, 0, 6, 4, 0, 0, 0, 0, 0, 0, 2, 15, 4, 0, 0, 0, 0, 0, 2, 0, 0, 0, 0, 0, 6, 0, 5, 15, 66, 51, 68, 13, 57, 41, 16, 39, 80, 14, 47, 49, 70, 0, 26, 38, 29, 7, 24, 65, 56, 24, 56, 75, 70, 2, 7, 22, 12, 49, 48, 41, 23, 8, 0, 0, 0, 27, 36, 31, 52, 0,\n",
      "0, 4, 0, 0, 0, 9, 14, 27, 13, 10, 20, 7, 0, 0, 0, 3, 7, 13, 7, 3, 0, 0, 0, 0, 0, 0, 5, 7, 3, 0, 0, 0, 0, 0, 2, 0, 10, 0, 0, 0, 7, 4, 6, 14, 60, 50, 67, 8, 56, 45, 16, 24, 60, 65, 43, 47, 72, 0, 6, 38, 35, 7, 22, 55, 31, 24, 24, 89, 82, 0, 15, 23, 42, 44, 54, 37, 23, 9, 0, 0, 56, 41, 42, 26, 14, 12,\n",
      "0, 4, 0, 0, 0, 7, 55, 26, 20, 9, 13, 0, 0, 0, 0, 3, 0, 14, 14, 4, 0, 0, 0, 2, 0, 3, 7, 0, 0, 0, 0, 0, 0, 0, 0, 2, 4, 0, 0, 0, 7, 0, 6, 14, 58, 50, 69, 11, 57, 44, 18, 27, 83, 61, 45, 41, 67, 5, 6, 41, 30, 12, 33, 37, 61, 23, 23, 69, 66, 0, 28, 23, 55, 55, 47, 38, 51, 9, 0, 6, 55, 32, 51, 0, 14, 0,\n",
      "0, 5, 0, 1, 1, 8, 39, 25, 14, 9, 15, 24, 0, 0, 5, 6, 8, 25, 13, 5, 0, 0, 0, 2, 32, 14, 10, 4, 3, 3, 0, 0, 0, 0, 0, 3, 0, 0, 0, 0, 8, 7, 0, 15, 57, 52, 70, 0, 61, 37, 14, 11, 74, 60, 47, 45, 69, 21, 5, 44, 29, 10, 29, 36, 37, 32, 23, 73, 85, 0, 9, 23, 57, 57, 60, 36, 49, 9, 0, 8, 50, 26, 51, 12, 30, 16,\n",
      "3, 9, 0, 0, 3, 38, 40, 13, 23, 23, 13, 7, 0, 0, 4, 7, 12, 11, 0, 9, 5, 0, 0, 4, 28, 13, 9, 17, 5, 3, 0, 0, 0, 0, 3, 9, 0, 0, 0, 0, 6, 6, 4, 14, 56, 48, 67, 8, 56, 36, 11, 12, 54, 24, 43, 47, 71, 23, 14, 43, 27, 9, 52, 23, 62, 23, 72, 78, 89, 3, 8, 23, 53, 61, 44, 24, 59, 22, 5, 13, 24, 0, 62, 22, 28, 6,\n",
      "0, 4, 0, 0, 0, 32, 7, 10, 42, 23, 14, 7, 0, 0, 0, 4, 10, 0, 5, 5, 0, 0, 0, 0, 0, 0, 0, 4, 0, 0, 0, 0, 0, 0, 0, 4, 6, 2, 0, 0, 6, 0, 0, 16, 57, 49, 67, 7, 51, 30, 10, 13, 54, 66, 43, 39, 69, 24, 5, 39, 26, 9, 63, 23, 38, 23, 23, 73, 88, 3, 9, 88, 23, 75, 55, 37, 81, 14, 0, 14, 21, 14, 23, 38, 38, 0,\n",
      "0, 6, 0, 0, 0, 4, 6, 7, 52, 24, 14, 0, 0, 0, 0, 0, 12, 7, 4, 0, 0, 0, 0, 0, 0, 0, 0, 0, 0, 0, 0, 0, 0, 0, 0, 0, 0, 0, 0, 0, 6, 0, 6, 16, 58, 48, 63, 0, 54, 31, 10, 12, 51, 65, 32, 36, 70, 24, 5, 46, 45, 8, 72, 79, 73, 14, 68, 77, 81, 3, 28, 68, 34, 56, 68, 0, 79, 53, 0, 5, 26, 23, 57, 24, 14, 14,\n",
      "0, 6, 0, 0, 0, 34, 8, 39, 32, 15, 24, 6, 2, 0, 0, 3, 9, 37, 8, 4, 0, 0, 0, 0, 0, 0, 10, 22, 5, 0, 0, 0, 0, 0, 0, 8, 5, 4, 0, 0, 7, 0, 0, 16, 59, 49, 58, 6, 58, 32, 10, 11, 61, 24, 38, 44, 73, 27, 8, 44, 31, 30, 62, 70, 23, 23, 64, 67, 79, 4, 7, 79, 23, 54, 62, 59, 69, 23, 0, 39, 12, 23, 52, 11, 26, 12,\n",
      "0, 0, 0, 0, 2, 48, 10, 23, 14, 8, 13, 28, 0, 0, 0, 13, 7, 25, 10, 23, 0, 0, 0, 8, 3, 3, 5, 5, 4, 5, 0, 0, 0, 0, 2, 0, 0, 0, 0, 0, 7, 0, 0, 17, 58, 27, 67, 0, 55, 35, 15, 23, 46, 23, 41, 37, 72, 29, 8, 40, 24, 36, 56, 48, 36, 25, 53, 23, 78, 0, 10, 67, 27, 51, 60, 50, 57, 23, 7, 24, 13, 26, 49, 11, 18, 0,\n",
      "0, 14, 0, 0, 3, 39, 11, 30, 14, 8, 10, 13, 0, 0, 0, 3, 5, 21, 16, 17, 6, 0, 0, 3, 3, 2, 14, 0, 0, 0, 0, 0, 0, 0, 0, 3, 0, 0, 0, 0, 6, 5, 0, 17, 62, 30, 75, 24, 58, 26, 9, 11, 76, 23, 36, 36, 78, 32, 8, 39, 20, 8, 36, 76, 23, 0, 46, 23, 78, 0, 8, 23, 13, 51, 66, 55, 76, 14, 11, 13, 12, 23, 30, 8, 7, 5,\n",
      "0, 4, 0, 0, 0, 20, 11, 22, 0, 7, 5, 0, 0, 0, 0, 0, 0, 9, 6, 0, 3, 0, 0, 0, 7, 8, 13, 2, 0, 0, 0, 0, 0, 0, 0, 0, 0, 0, 0, 0, 6, 0, 5, 19, 63, 50, 75, 21, 58, 29, 16, 33, 72, 59, 38, 47, 79, 31, 12, 46, 27, 9, 43, 76, 37, 22, 22, 59, 75, 2, 0, 75, 23, 47, 78, 67, 77, 12, 0, 25, 0, 34, 38, 0, 10, 8,\n",
      "0, 0, 0, 0, 0, 36, 20, 33, 12, 6, 46, 42, 0, 0, 0, 9, 8, 13, 9, 6, 0, 0, 0, 0, 5, 2, 5, 5, 0, 0, 0, 0, 0, 0, 0, 0, 0, 0, 0, 0, 0, 0, 9, 19, 60, 64, 76, 0, 58, 33, 16, 29, 71, 73, 31, 51, 76, 32, 5, 47, 32, 0, 40, 89, 23, 24, 23, 53, 23, 0, 25, 60, 57, 60, 62, 60, 23, 19, 0, 27, 14, 40, 41, 13, 56, 12,\n",
      "1, 5, 0, 0, 0, 29, 16, 20, 12, 15, 29, 23, 4, 0, 0, 5, 4, 0, 11, 0, 0, 0, 0, 0, 0, 2, 6, 3, 7, 0, 0, 0, 0, 0, 0, 0, 0, 0, 0, 0, 6, 0, 0, 19, 56, 58, 74, 32, 58, 38, 15, 27, 79, 73, 40, 42, 66, 36, 24, 41, 22, 11, 34, 62, 23, 23, 23, 14, 24, 0, 13, 40, 29, 60, 54, 46, 62, 12, 0, 13, 38, 24, 37, 0, 23, 7,\n",
      "0, 5, 0, 0, 0, 21, 13, 7, 10, 8, 10, 4, 0, 0, 0, 0, 5, 6, 5, 0, 2, 0, 0, 0, 0, 0, 3, 2, 0, 0, 0, 0, 0, 0, 0, 0, 0, 0, 0, 0, 6, 0, 9, 19, 55, 52, 70, 29, 57, 33, 24, 21, 84, 60, 36, 38, 73, 33, 38, 35, 21, 10, 34, 44, 33, 14, 23, 51, 23, 2, 9, 14, 14, 57, 59, 43, 57, 10, 0, 26, 13, 13, 48, 0, 0, 5,\n",
      "1, 3, 0, 0, 0, 39, 14, 28, 14, 7, 5, 2, 0, 0, 0, 1, 0, 28, 7, 5, 0, 0, 0, 0, 7, 0, 0, 5, 0, 1, 0, 0, 0, 0, 0, 4, 0, 0, 0, 0, 5, 0, 9, 19, 61, 50, 69, 0, 56, 21, 22, 22, 73, 52, 49, 41, 83, 35, 48, 42, 31, 13, 55, 59, 37, 33, 24, 49, 50, 0, 0, 8, 11, 53, 63, 13, 59, 24, 0, 13, 10, 23, 32, 10, 0, 0,\n",
      "0, 5, 0, 0, 0, 31, 7, 14, 12, 21, 34, 7, 0, 0, 0, 5, 7, 9, 4, 0, 0, 0, 0, 0, 0, 3, 3, 3, 0, 2, 0, 0, 0, 0, 0, 0, 2, 0, 0, 0, 7, 5, 8, 20, 59, 48, 66, 0, 56, 29, 19, 21, 77, 53, 30, 45, 74, 39, 45, 47, 35, 21, 73, 59, 38, 14, 23, 74, 65, 0, 0, 56, 59, 45, 70, 37, 62, 23, 6, 42, 10, 14, 23, 0, 23, 7,\n",
      "0, 5, 1, 0, 3, 14, 7, 6, 8, 10, 5, 4, 2, 0, 0, 0, 4, 4, 4, 6, 0, 0, 0, 0, 0, 0, 0, 0, 0, 0, 0, 0, 0, 0, 0, 0, 0, 0, 0, 0, 6, 0, 10, 20, 61, 40, 70, 30, 56, 34, 21, 26, 84, 14, 29, 49, 83, 25, 44, 43, 32, 15, 23, 85, 23, 14, 52, 52, 23, 0, 21, 47, 27, 45, 58, 55, 23, 26, 10, 60, 34, 0, 14, 13, 13, 16,\n",
      "1, 6, 0, 0, 0, 6, 8, 0, 0, 0, 5, 0, 5, 0, 0, 0, 4, 7, 6, 0, 0, 0, 0, 0, 0, 0, 0, 0, 0, 0, 0, 0, 0, 0, 0, 0, 0, 0, 0, 0, 6, 6, 8, 17, 60, 56, 75, 0, 53, 45, 19, 27, 83, 61, 27, 48, 79, 24, 36, 39, 20, 13, 26, 72, 23, 14, 43, 56, 66, 2, 0, 14, 23, 46, 66, 73, 23, 11, 4, 6, 61, 13, 14, 7, 0, 9,\n",
      "0, 3, 0, 0, 0, 40, 8, 23, 10, 0, 0, 30, 0, 0, 0, 0, 4, 10, 7, 6, 0, 0, 0, 0, 2, 0, 5, 0, 0, 0, 0, 0, 0, 0, 0, 0, 0, 0, 0, 0, 6, 0, 0, 17, 60, 53, 63, 12, 54, 44, 23, 38, 78, 81, 24, 41, 80, 28, 31, 39, 25, 18, 14, 67, 37, 26, 23, 67, 81, 2, 7, 67, 23, 49, 66, 54, 67, 23, 0, 14, 39, 33, 41, 9, 14, 7,\n",
      "1, 7, 0, 0, 0, 37, 12, 23, 11, 7, 7, 34, 0, 0, 0, 17, 5, 8, 6, 17, 0, 0, 0, 3, 0, 0, 3, 3, 4, 6, 0, 0, 0, 0, 0, 0, 0, 0, 0, 0, 6, 3, 7, 18, 60, 32, 65, 12, 60, 41, 21, 31, 48, 82, 40, 40, 78, 28, 7, 33, 18, 23, 56, 45, 37, 54, 23, 74, 86, 14, 8, 70, 44, 65, 68, 54, 70, 26, 0, 13, 13, 43, 37, 11, 19, 6,\n",
      "2, 0, 0, 0, 2, 31, 24, 47, 40, 23, 12, 16, 0, 0, 0, 0, 11, 23, 9, 5, 0, 0, 0, 0, 0, 0, 6, 6, 3, 0, 0, 0, 0, 0, 0, 5, 0, 0, 0, 0, 6, 6, 7, 17, 59, 34, 57, 16, 61, 40, 13, 32, 50, 68, 38, 43, 81, 24, 7, 39, 20, 30, 80, 46, 23, 23, 23, 77, 70, 14, 14, 70, 42, 65, 74, 73, 72, 35, 5, 37, 53, 64, 55, 27, 22, 7,\n",
      "2, 8, 0, 0, 0, 14, 10, 30, 13, 11, 8, 14, 0, 0, 0, 10, 6, 24, 0, 0, 0, 0, 0, 0, 0, 0, 5, 4, 2, 3, 0, 0, 0, 0, 0, 2, 5, 3, 0, 0, 7, 10, 6, 17, 59, 53, 65, 32, 64, 40, 13, 18, 69, 68, 40, 44, 73, 30, 8, 36, 23, 23, 80, 36, 41, 23, 56, 75, 16, 2, 0, 13, 50, 58, 66, 47, 47, 23, 5, 10, 36, 23, 35, 13, 26, 0,\n",
      "2, 8, 0, 0, 0, 28, 7, 7, 27, 11, 0, 2, 0, 0, 0, 0, 14, 0, 0, 0, 0, 0, 0, 0, 0, 0, 0, 3, 0, 0, 0, 0, 0, 0, 0, 0, 0, 0, 0, 0, 7, 14, 8, 15, 59, 50, 63, 25, 68, 37, 8, 37, 79, 0, 22, 43, 75, 23, 7, 42, 27, 21, 41, 59, 23, 12, 61, 54, 22, 0, 0, 11, 0, 48, 57, 14, 59, 13, 6, 14, 8, 13, 38, 21, 6, 0,\n",
      "0, 8, 0, 0, 0, 39, 6, 7, 11, 9, 0, 0, 0, 0, 0, 0, 5, 0, 0, 6, 5, 0, 0, 0, 0, 0, 0, 0, 0, 0, 0, 0, 0, 0, 0, 2, 0, 0, 0, 0, 6, 12, 6, 16, 62, 38, 61, 23, 60, 37, 9, 8, 80, 0, 30, 30, 72, 25, 7, 40, 33, 22, 34, 75, 23, 14, 48, 43, 63, 0, 36, 0, 11, 46, 60, 59, 23, 14, 0, 14, 13, 12, 27, 8, 0, 15,\n",
      "2, 6, 0, 0, 2, 32, 23, 43, 11, 6, 0, 3, 0, 0, 0, 0, 5, 14, 9, 16, 5, 0, 0, 3, 0, 0, 0, 5, 0, 0, 0, 0, 0, 0, 0, 0, 0, 0, 0, 0, 7, 16, 6, 16, 68, 40, 64, 11, 58, 32, 6, 9, 71, 23, 26, 37, 72, 27, 4, 38, 32, 17, 22, 66, 23, 15, 51, 61, 68, 3, 37, 23, 25, 49, 57, 48, 64, 13, 6, 13, 23, 66, 39, 0, 10, 15,\n",
      "0, 0, 2, 0, 0, 39, 28, 23, 14, 12, 46, 23, 0, 0, 0, 0, 10, 34, 7, 25, 8, 0, 0, 0, 0, 0, 7, 0, 0, 3, 0, 0, 0, 0, 0, 4, 0, 0, 2, 0, 7, 13, 0, 18, 67, 32, 67, 12, 54, 23, 8, 38, 75, 0, 43, 48, 75, 29, 7, 39, 35, 17, 23, 66, 37, 23, 55, 59, 22, 0, 21, 54, 23, 60, 58, 0, 94, 24, 0, 14, 23, 24, 49, 13, 23, 0,\n",
      "1, 5, 1, 0, 0, 24, 24, 24, 13, 8, 10, 10, 0, 0, 0, 0, 7, 30, 8, 0, 0, 0, 0, 0, 3, 0, 5, 9, 12, 0, 0, 0, 0, 0, 5, 12, 18, 6, 0, 0, 7, 12, 0, 17, 60, 51, 57, 0, 53, 36, 11, 29, 46, 23, 35, 45, 72, 30, 0, 39, 20, 8, 23, 54, 23, 21, 53, 80, 78, 19, 25, 23, 14, 49, 62, 14, 76, 17, 0, 32, 14, 23, 49, 0, 10, 19,\n",
      "0, 4, 1, 0, 0, 37, 30, 23, 13, 0, 9, 27, 2, 0, 0, 12, 6, 22, 0, 0, 0, 0, 0, 0, 3, 0, 5, 0, 5, 0, 0, 0, 0, 0, 3, 4, 15, 5, 0, 0, 7, 14, 8, 17, 57, 55, 48, 0, 53, 34, 14, 11, 45, 66, 35, 36, 76, 31, 5, 38, 19, 12, 44, 85, 23, 0, 44, 55, 76, 2, 35, 23, 14, 47, 56, 24, 23, 14, 0, 12, 58, 28, 32, 12, 12, 14,\n",
      "0, 5, 0, 0, 0, 30, 11, 6, 15, 0, 9, 29, 0, 0, 3, 15, 6, 7, 5, 0, 0, 0, 0, 0, 0, 0, 2, 0, 3, 4, 0, 0, 0, 0, 0, 0, 0, 0, 0, 0, 8, 9, 7, 17, 55, 47, 56, 27, 54, 27, 13, 19, 65, 66, 36, 43, 70, 31, 28, 47, 32, 0, 47, 59, 30, 14, 0, 79, 45, 0, 17, 43, 14, 45, 49, 14, 59, 22, 0, 23, 18, 0, 41, 0, 0, 21,\n",
      "0, 5, 0, 0, 0, 23, 20, 26, 0, 21, 9, 24, 0, 0, 20, 12, 6, 26, 13, 23, 16, 0, 0, 0, 5, 0, 10, 5, 3, 0, 0, 0, 0, 0, 0, 0, 7, 4, 0, 0, 7, 9, 6, 17, 62, 43, 60, 0, 63, 23, 6, 24, 71, 64, 44, 42, 80, 31, 34, 44, 33, 7, 58, 46, 37, 24, 57, 49, 53, 2, 23, 23, 21, 49, 56, 12, 60, 25, 0, 24, 11, 23, 49, 29, 11, 26,\n",
      "1, 4, 0, 0, 0, 5, 5, 14, 12, 6, 9, 8, 0, 0, 8, 4, 7, 22, 0, 0, 0, 0, 0, 0, 0, 0, 4, 4, 0, 0, 0, 0, 0, 0, 0, 3, 13, 0, 0, 0, 6, 12, 7, 18, 59, 24, 59, 0, 51, 32, 16, 25, 71, 23, 38, 38, 66, 39, 13, 35, 26, 9, 79, 64, 38, 24, 51, 63, 79, 0, 42, 68, 23, 46, 47, 13, 67, 14, 5, 29, 10, 13, 37, 8, 9, 14,\n",
      "1, 4, 0, 0, 0, 40, 8, 0, 0, 6, 8, 43, 0, 0, 19, 22, 4, 0, 4, 0, 6, 0, 0, 0, 0, 0, 3, 3, 5, 0, 0, 0, 0, 0, 3, 3, 0, 0, 2, 0, 6, 12, 6, 3, 61, 39, 50, 0, 50, 38, 15, 12, 68, 57, 43, 38, 58, 39, 14, 31, 36, 10, 62, 60, 63, 23, 59, 55, 81, 0, 37, 23, 32, 47, 55, 45, 69, 23, 0, 14, 10, 11, 45, 9, 19, 28,\n",
      "0, 4, 0, 0, 0, 22, 0, 6, 24, 13, 14, 16, 2, 0, 0, 0, 0, 4, 4, 0, 4, 0, 0, 0, 0, 0, 0, 0, 0, 0, 0, 0, 0, 0, 0, 0, 0, 0, 0, 0, 6, 6, 8, 22, 61, 38, 69, 0, 56, 38, 5, 10, 67, 23, 46, 40, 59, 45, 18, 36, 31, 10, 77, 44, 23, 23, 56, 66, 59, 2, 14, 67, 23, 46, 68, 50, 65, 23, 6, 43, 27, 10, 23, 27, 52, 6,\n",
      "1, 4, 0, 0, 0, 40, 23, 6, 9, 11, 41, 0, 0, 0, 0, 0, 7, 6, 0, 0, 0, 0, 0, 2, 2, 0, 0, 0, 0, 0, 0, 0, 0, 0, 0, 0, 0, 0, 0, 0, 6, 6, 9, 21, 65, 44, 64, 11, 64, 41, 14, 8, 77, 23, 56, 35, 57, 43, 4, 40, 32, 9, 80, 44, 41, 55, 54, 23, 23, 0, 32, 41, 32, 48, 57, 30, 60, 23, 0, 14, 0, 11, 24, 0, 41, 37,\n",
      "0, 0, 0, 0, 0, 5, 0, 8, 14, 8, 7, 24, 0, 0, 0, 0, 6, 5, 0, 0, 0, 0, 0, 0, 0, 0, 0, 0, 0, 0, 0, 0, 0, 0, 0, 0, 0, 0, 0, 0, 6, 12, 8, 21, 62, 44, 70, 12, 59, 33, 10, 9, 74, 62, 60, 40, 64, 41, 3, 37, 41, 11, 65, 84, 36, 23, 24, 23, 74, 3, 34, 23, 12, 48, 57, 34, 40, 8, 4, 4, 0, 8, 50, 9, 7, 42,\n",
      "0, 4, 0, 0, 0, 8, 14, 31, 26, 7, 9, 7, 0, 0, 18, 3, 5, 31, 0, 2, 0, 0, 0, 0, 2, 0, 0, 6, 0, 0, 0, 0, 0, 0, 0, 0, 3, 0, 0, 0, 6, 12, 6, 20, 58, 54, 69, 8, 58, 33, 6, 10, 78, 67, 32, 37, 69, 40, 23, 35, 30, 0, 48, 75, 23, 13, 47, 76, 23, 0, 30, 79, 36, 50, 56, 42, 23, 14, 0, 7, 67, 23, 43, 0, 11, 34,\n",
      "0, 4, 0, 0, 0, 15, 14, 31, 20, 27, 10, 0, 0, 0, 22, 0, 7, 13, 0, 0, 0, 0, 0, 0, 0, 0, 5, 4, 0, 3, 0, 0, 0, 2, 0, 3, 0, 0, 0, 0, 6, 9, 8, 3, 59, 55, 68, 37, 58, 35, 8, 33, 74, 62, 47, 39, 61, 39, 33, 37, 28, 0, 45, 90, 23, 30, 65, 84, 23, 4, 28, 80, 53, 49, 66, 60, 23, 13, 0, 10, 68, 39, 48, 35, 23, 34\n",
      "\n",
      "// Data for B\n",
      "\n",
      "0, 0, 0, 0, 0, 4, 0, 0, 3, 3, 2, 1, 0, 0, 0, 0, 2, 0, 0, 0, 0, 0, 0, 0, 0, 0, 0, 0, 0, 0, 0, 0, 0, 0, 0, 0, 0, 0, 0, 0, 2, 0, 1, 2, 16, 12, 29, 2, 13, 6, 0, 2, 16, 4, 11, 7, 20, 6, 0, 6, 3, 1, 14, 7, 13, 5, 13, 6, 26, 0, 0, 3, 4, 14, 4, 3, 17, 3, 0, 0, 2, 0, 3, 2, 2, 1,\n",
      "0, 0, 0, 0, 0, 0, 0, 1, 2, 2, 0, 0, 0, 0, 0, 1, 0, 0, 1, 0, 0, 0, 0, 0, 0, 0, 0, 0, 0, 0, 0, 0, 0, 0, 0, 0, 0, 0, 0, 0, 1, 2, 1, 3, 16, 7, 18, 2, 13, 8, 0, 2, 14, 11, 13, 10, 19, 6, 1, 5, 3, 0, 4, 24, 10, 4, 0, 9, 24, 0, 1, 2, 4, 7, 7, 5, 11, 2, 0, 0, 3, 0, 6, 1, 0, 0,\n",
      "0, 0, 0, 0, 0, 0, 0, 0, 0, 0, 2, 2, 0, 0, 0, 0, 1, 0, 0, 0, 0, 0, 0, 0, 0, 0, 0, 1, 0, 0, 0, 0, 0, 0, 0, 0, 0, 0, 0, 0, 2, 1, 2, 4, 19, 10, 26, 3, 16, 9, 0, 7, 13, 4, 15, 12, 21, 0, 2, 5, 4, 0, 0, 11, 9, 5, 11, 22, 22, 0, 0, 4, 10, 6, 0, 3, 4, 0, 0, 0, 0, 0, 0, 1, 4, 0,\n",
      "0, 0, 0, 0, 0, 0, 0, 1, 2, 2, 3, 0, 0, 0, 0, 0, 1, 0, 0, 0, 0, 0, 0, 0, 0, 0, 0, 0, 0, 0, 0, 0, 0, 0, 0, 0, 1, 0, 0, 0, 2, 0, 0, 0, 16, 12, 23, 0, 16, 9, 0, 1, 13, 0, 11, 11, 20, 0, 0, 5, 7, 0, 0, 3, 6, 7, 13, 4, 23, 0, 0, 8, 17, 3, 4, 0, 9, 2, 0, 0, 7, 1, 4, 2, 3, 0,\n",
      "0, 0, 0, 0, 0, 0, 7, 3, 2, 1, 1, 1, 0, 0, 0, 1, 0, 0, 2, 0, 0, 0, 0, 0, 1, 0, 1, 0, 0, 0, 0, 0, 0, 0, 0, 0, 0, 0, 0, 0, 2, 1, 1, 3, 15, 12, 26, 2, 17, 9, 1, 2, 18, 12, 12, 9, 18, 5, 1, 6, 4, 0, 4, 2, 10, 5, 0, 4, 20, 0, 0, 4, 0, 9, 2, 2, 7, 1, 0, 0, 6, 0, 5, 1, 0, 0,\n",
      "0, 0, 0, 0, 0, 0, 5, 1, 2, 1, 2, 0, 0, 0, 0, 1, 1, 0, 1, 0, 0, 0, 0, 0, 2, 0, 0, 0, 0, 0, 0, 0, 0, 0, 0, 0, 0, 0, 0, 0, 1, 2, 1, 3, 16, 14, 27, 0, 19, 7, 0, 2, 18, 12, 11, 9, 18, 1, 1, 7, 4, 0, 5, 3, 11, 3, 0, 4, 21, 0, 0, 0, 0, 9, 5, 1, 7, 0, 0, 1, 7, 2, 5, 0, 0, 0,\n",
      "0, 0, 0, 0, 0, 6, 4, 1, 3, 0, 0, 1, 0, 0, 0, 0, 0, 0, 0, 0, 0, 0, 0, 0, 1, 1, 0, 0, 0, 0, 0, 0, 0, 0, 0, 0, 0, 0, 0, 0, 2, 1, 2, 3, 15, 15, 24, 2, 15, 7, 1, 2, 26, 15, 11, 9, 20, 0, 1, 7, 4, 0, 10, 6, 9, 5, 6, 15, 24, 0, 1, 0, 3, 11, 2, 2, 10, 2, 1, 7, 2, 0, 8, 2, 0, 0,\n",
      "0, 0, 0, 0, 0, 2, 1, 0, 4, 0, 0, 0, 0, 0, 0, 0, 0, 0, 0, 0, 0, 0, 0, 0, 0, 0, 0, 0, 0, 0, 0, 0, 0, 0, 0, 0, 0, 0, 0, 0, 2, 0, 0, 3, 16, 12, 30, 0, 13, 7, 0, 2, 25, 13, 11, 8, 22, 0, 0, 6, 3, 0, 16, 14, 13, 11, 5, 4, 24, 0, 1, 4, 4, 13, 4, 3, 19, 3, 0, 0, 2, 0, 3, 2, 2, 1,\n",
      "0, 0, 0, 0, 0, 0, 0, 0, 0, 1, 0, 0, 0, 0, 0, 0, 0, 0, 0, 0, 0, 0, 0, 0, 0, 0, 0, 0, 0, 0, 0, 0, 0, 0, 0, 0, 0, 0, 0, 0, 2, 0, 0, 3, 17, 13, 27, 1, 15, 7, 0, 1, 13, 14, 9, 9, 19, 2, 0, 8, 8, 0, 12, 18, 16, 6, 4, 16, 21, 0, 0, 4, 3, 8, 10, 4, 15, 0, 0, 0, 2, 1, 8, 0, 1, 0,\n",
      "0, 0, 0, 0, 0, 5, 1, 0, 0, 1, 1, 0, 0, 0, 0, 0, 0, 0, 0, 0, 0, 0, 0, 0, 0, 0, 0, 0, 0, 0, 0, 0, 0, 0, 0, 0, 0, 0, 0, 0, 2, 0, 1, 4, 17, 13, 24, 0, 17, 7, 0, 2, 24, 13, 11, 12, 21, 0, 1, 7, 4, 0, 8, 10, 6, 4, 6, 9, 22, 0, 0, 16, 4, 7, 9, 9, 10, 3, 0, 6, 0, 0, 6, 0, 2, 0,\n",
      "0, 0, 0, 0, 0, 10, 1, 0, 0, 0, 0, 0, 0, 0, 0, 0, 0, 1, 0, 4, 0, 0, 0, 0, 0, 0, 0, 0, 0, 0, 0, 0, 0, 0, 0, 0, 0, 0, 0, 0, 2, 0, 1, 3, 16, 4, 22, 2, 16, 8, 1, 1, 15, 10, 11, 11, 22, 0, 1, 8, 0, 4, 9, 5, 12, 8, 3, 4, 21, 0, 0, 13, 3, 2, 6, 2, 8, 3, 0, 0, 0, 0, 6, 0, 2, 0,\n",
      "0, 0, 0, 0, 0, 6, 1, 2, 0, 0, 0, 0, 0, 0, 0, 0, 0, 0, 0, 0, 0, 0, 0, 0, 0, 0, 0, 0, 0, 0, 0, 0, 0, 0, 0, 0, 0, 0, 0, 0, 2, 1, 1, 3, 17, 8, 23, 0, 17, 6, 1, 2, 20, 8, 10, 9, 26, 0, 1, 7, 0, 0, 7, 14, 14, 8, 0, 0, 22, 0, 0, 0, 2, 6, 8, 2, 13, 0, 0, 2, 0, 3, 4, 0, 1, 0,\n",
      "0, 0, 0, 0, 0, 0, 0, 0, 0, 0, 0, 0, 0, 0, 0, 0, 0, 0, 0, 0, 0, 0, 0, 0, 0, 0, 0, 0, 0, 0, 0, 0, 0, 0, 0, 0, 0, 0, 0, 0, 1, 0, 0, 1, 18, 14, 25, 0, 17, 6, 1, 7, 20, 12, 10, 12, 26, 0, 0, 7, 2, 0, 9, 14, 14, 9, 4, 3, 18, 0, 0, 18, 0, 4, 13, 9, 14, 0, 0, 0, 2, 0, 0, 0, 0, 2,\n",
      "0, 0, 0, 0, 0, 0, 0, 1, 0, 0, 0, 0, 0, 0, 0, 0, 0, 1, 0, 0, 0, 0, 0, 0, 0, 0, 0, 0, 0, 0, 0, 0, 0, 0, 0, 0, 0, 0, 0, 0, 1, 0, 0, 4, 15, 20, 27, 3, 17, 7, 1, 4, 19, 15, 8, 13, 22, 0, 0, 7, 4, 0, 5, 25, 10, 4, 6, 5, 4, 0, 0, 10, 9, 10, 5, 5, 12, 0, 0, 5, 0, 2, 6, 0, 0, 0,\n",
      "0, 0, 0, 0, 0, 2, 0, 0, 1, 0, 0, 0, 0, 0, 0, 0, 1, 0, 0, 0, 0, 0, 0, 0, 0, 0, 0, 0, 0, 0, 0, 0, 0, 0, 0, 0, 0, 0, 0, 0, 3, 0, 0, 0, 14, 16, 27, 2, 15, 8, 0, 1, 21, 16, 12, 10, 18, 5, 0, 5, 2, 0, 6, 11, 10, 4, 5, 5, 5, 0, 0, 0, 0, 9, 4, 1, 10, 0, 0, 3, 2, 0, 4, 0, 0, 0,\n",
      "0, 0, 0, 0, 0, 0, 0, 0, 1, 0, 0, 0, 0, 0, 0, 0, 0, 0, 0, 0, 0, 0, 0, 0, 0, 0, 0, 0, 0, 0, 0, 0, 0, 0, 0, 0, 0, 0, 0, 0, 2, 0, 0, 3, 14, 15, 23, 0, 14, 6, 2, 0, 25, 12, 8, 11, 22, 2, 0, 4, 2, 0, 7, 6, 10, 4, 5, 4, 11, 0, 0, 2, 2, 9, 7, 2, 8, 1, 0, 3, 1, 0, 7, 0, 1, 0,\n",
      "0, 0, 0, 0, 0, 6, 0, 0, 0, 0, 0, 0, 0, 0, 0, 0, 0, 0, 0, 0, 0, 0, 0, 0, 0, 0, 0, 0, 0, 0, 0, 0, 0, 0, 0, 0, 0, 0, 0, 0, 2, 0, 0, 4, 18, 12, 24, 0, 15, 4, 2, 0, 21, 10, 16, 11, 28, 2, 0, 5, 4, 0, 11, 10, 15, 13, 3, 3, 10, 0, 0, 0, 2, 2, 6, 3, 8, 3, 0, 2, 1, 0, 3, 1, 0, 0,\n",
      "0, 0, 0, 0, 0, 4, 0, 0, 0, 2, 4, 0, 0, 0, 0, 0, 0, 0, 0, 0, 0, 0, 0, 0, 0, 0, 0, 0, 0, 0, 0, 0, 0, 0, 0, 0, 0, 0, 0, 0, 2, 1, 0, 6, 16, 10, 23, 3, 16, 6, 2, 0, 23, 10, 9, 12, 22, 0, 1, 6, 5, 0, 16, 8, 19, 11, 3, 14, 13, 0, 0, 2, 8, 2, 3, 2, 8, 0, 0, 6, 1, 0, 1, 1, 4, 0,\n",
      "0, 0, 0, 0, 0, 0, 0, 0, 0, 0, 0, 0, 0, 0, 0, 0, 0, 0, 0, 0, 0, 0, 0, 0, 0, 0, 0, 0, 0, 0, 0, 0, 0, 0, 0, 0, 0, 0, 0, 0, 2, 1, 1, 4, 17, 9, 23, 2, 14, 7, 1, 2, 29, 10, 7, 10, 21, 0, 0, 5, 3, 1, 4, 22, 13, 10, 4, 4, 4, 0, 1, 0, 2, 0, 2, 3, 10, 2, 0, 8, 4, 0, 0, 1, 1, 0,\n",
      "0, 0, 0, 0, 0, 0, 0, 0, 0, 0, 0, 0, 0, 0, 0, 0, 0, 0, 0, 0, 0, 0, 0, 0, 0, 0, 0, 0, 0, 0, 0, 0, 0, 0, 0, 0, 0, 0, 0, 0, 2, 1, 0, 4, 18, 17, 32, 2, 13, 11, 0, 0, 31, 12, 7, 10, 20, 5, 0, 4, 0, 0, 4, 15, 14, 7, 4, 4, 16, 0, 0, 3, 0, 1, 2, 12, 4, 2, 0, 0, 8, 1, 0, 0, 1, 0,\n",
      "0, 0, 0, 0, 0, 6, 1, 0, 3, 0, 0, 0, 0, 0, 0, 0, 0, 0, 0, 0, 0, 0, 0, 0, 0, 0, 0, 0, 0, 0, 0, 0, 0, 0, 0, 0, 0, 0, 0, 0, 2, 1, 1, 4, 14, 16, 23, 2, 14, 11, 0, 0, 25, 21, 7, 9, 21, 0, 3, 5, 2, 0, 0, 15, 9, 2, 7, 9, 16, 0, 0, 12, 0, 3, 10, 2, 15, 0, 0, 7, 4, 0, 5, 0, 0, 0,\n",
      "0, 0, 0, 0, 0, 8, 0, 0, 1, 0, 0, 0, 0, 0, 0, 0, 0, 0, 0, 3, 0, 0, 0, 0, 0, 0, 0, 0, 0, 0, 0, 0, 0, 0, 0, 0, 0, 0, 0, 0, 2, 1, 1, 4, 15, 15, 26, 2, 16, 10, 0, 0, 26, 21, 13, 9, 20, 5, 1, 2, 1, 0, 9, 14, 13, 16, 7, 18, 20, 0, 0, 11, 4, 5, 9, 2, 15, 0, 0, 2, 3, 0, 4, 0, 0, 0,\n",
      "0, 0, 0, 0, 0, 6, 1, 2, 0, 0, 0, 0, 0, 0, 0, 0, 0, 0, 0, 0, 0, 0, 0, 0, 0, 0, 0, 0, 0, 0, 0, 0, 0, 0, 0, 0, 0, 0, 0, 0, 2, 2, 0, 3, 16, 15, 23, 0, 17, 9, 0, 5, 22, 14, 10, 10, 26, 0, 0, 5, 2, 0, 19, 15, 14, 12, 5, 19, 15, 0, 0, 2, 0, 6, 14, 10, 15, 4, 0, 8, 5, 0, 2, 0, 0, 0,\n",
      "0, 0, 0, 0, 0, 1, 0, 0, 0, 0, 0, 0, 0, 0, 0, 0, 0, 0, 0, 0, 0, 0, 0, 0, 0, 0, 0, 0, 0, 0, 0, 0, 0, 0, 0, 0, 0, 0, 0, 0, 2, 3, 1, 1, 17, 14, 24, 2, 19, 9, 0, 1, 16, 13, 10, 11, 22, 0, 1, 5, 2, 0, 17, 0, 14, 11, 4, 13, 7, 0, 0, 3, 3, 2, 6, 0, 3, 6, 0, 0, 1, 2, 1, 0, 0, 0,\n",
      "0, 0, 0, 0, 0, 0, 0, 1, 1, 0, 0, 0, 0, 0, 0, 0, 0, 0, 0, 0, 0, 0, 0, 0, 0, 0, 0, 0, 0, 0, 0, 0, 0, 0, 0, 0, 0, 0, 0, 0, 2, 3, 0, 1, 17, 14, 21, 3, 20, 8, 0, 0, 21, 13, 7, 11, 21, 0, 1, 8, 4, 1, 8, 8, 15, 8, 0, 4, 4, 0, 0, 2, 2, 3, 3, 2, 8, 4, 0, 5, 0, 0, 2, 0, 0, 0,\n",
      "0, 0, 0, 0, 0, 6, 0, 0, 0, 0, 0, 0, 0, 0, 0, 0, 0, 0, 0, 0, 0, 0, 0, 0, 0, 0, 0, 0, 0, 0, 0, 0, 0, 0, 0, 0, 0, 0, 0, 0, 0, 3, 0, 1, 17, 10, 19, 4, 17, 8, 0, 0, 20, 8, 8, 7, 20, 0, 1, 6, 6, 0, 6, 14, 10, 9, 2, 4, 15, 0, 8, 0, 0, 1, 8, 11, 0, 2, 0, 2, 2, 0, 0, 0, 0, 2,\n",
      "0, 0, 0, 0, 0, 5, 0, 0, 0, 0, 0, 0, 0, 0, 0, 0, 0, 0, 0, 2, 0, 0, 0, 0, 0, 0, 0, 0, 0, 0, 0, 0, 0, 0, 0, 0, 0, 0, 0, 0, 0, 4, 0, 4, 19, 9, 22, 0, 16, 6, 0, 0, 18, 10, 7, 10, 22, 0, 0, 5, 5, 1, 3, 12, 5, 9, 3, 4, 13, 0, 5, 3, 2, 4, 10, 0, 3, 2, 0, 0, 1, 7, 3, 0, 1, 6,\n",
      "0, 0, 0, 0, 0, 4, 0, 4, 0, 0, 4, 0, 0, 0, 0, 0, 0, 3, 0, 1, 0, 0, 0, 0, 0, 0, 0, 0, 0, 0, 0, 0, 0, 0, 0, 0, 0, 0, 0, 0, 0, 3, 1, 1, 19, 10, 24, 9, 14, 5, 0, 6, 21, 11, 12, 13, 22, 0, 1, 5, 6, 1, 8, 24, 6, 10, 5, 4, 4, 0, 2, 6, 3, 10, 10, 5, 17, 0, 0, 1, 3, 4, 6, 2, 6, 0,\n",
      "0, 0, 0, 0, 0, 0, 0, 2, 2, 1, 1, 0, 0, 0, 0, 0, 0, 1, 0, 0, 0, 0, 0, 0, 0, 0, 0, 0, 0, 0, 0, 0, 0, 0, 0, 0, 0, 0, 0, 0, 0, 3, 0, 1, 17, 14, 23, 1, 14, 8, 3, 2, 20, 11, 9, 11, 19, 0, 1, 6, 0, 0, 4, 8, 7, 4, 0, 17, 17, 3, 1, 3, 2, 6, 10, 3, 17, 0, 0, 5, 0, 4, 6, 1, 3, 0,\n",
      "0, 0, 0, 0, 0, 5, 1, 0, 2, 1, 0, 0, 0, 0, 0, 0, 0, 1, 0, 0, 0, 0, 0, 0, 0, 0, 0, 0, 0, 0, 0, 0, 0, 0, 0, 0, 0, 0, 0, 0, 0, 4, 0, 0, 15, 13, 21, 2, 13, 7, 2, 1, 21, 14, 8, 9, 20, 0, 1, 6, 0, 0, 8, 24, 5, 6, 0, 3, 15, 0, 6, 8, 3, 6, 7, 4, 11, 0, 0, 2, 0, 2, 3, 1, 0, 8,\n",
      "0, 0, 0, 0, 0, 0, 0, 0, 0, 0, 0, 3, 0, 0, 0, 1, 0, 0, 0, 0, 0, 0, 0, 0, 0, 0, 0, 0, 0, 0, 0, 0, 0, 0, 0, 0, 0, 0, 0, 0, 2, 2, 0, 0, 15, 9, 24, 2, 14, 5, 1, 4, 14, 14, 10, 11, 17, 5, 1, 10, 5, 0, 7, 8, 6, 8, 4, 4, 4, 0, 0, 2, 2, 3, 2, 0, 9, 3, 0, 4, 0, 0, 3, 0, 0, 2,\n",
      "0, 0, 0, 0, 0, 3, 2, 1, 4, 0, 0, 2, 0, 0, 2, 0, 0, 0, 0, 2, 1, 0, 0, 0, 0, 0, 0, 0, 0, 0, 0, 0, 0, 0, 0, 0, 0, 0, 0, 0, 1, 3, 0, 0, 18, 9, 21, 2, 16, 6, 0, 3, 17, 14, 14, 12, 22, 0, 1, 7, 5, 0, 9, 3, 7, 9, 4, 0, 0, 0, 3, 3, 0, 4, 7, 0, 7, 3, 0, 3, 2, 0, 5, 1, 0, 4,\n",
      "0, 0, 0, 0, 0, 2, 0, 2, 1, 0, 0, 2, 0, 0, 0, 0, 0, 1, 0, 0, 0, 0, 0, 0, 0, 0, 0, 0, 0, 0, 0, 0, 0, 0, 0, 0, 0, 0, 0, 0, 1, 3, 0, 4, 16, 7, 23, 9, 12, 8, 1, 8, 22, 11, 10, 11, 26, 0, 1, 5, 4, 0, 18, 4, 7, 9, 3, 5, 20, 0, 2, 11, 0, 7, 2, 1, 8, 2, 0, 0, 1, 0, 2, 1, 0, 1,\n",
      "0, 0, 0, 0, 0, 6, 0, 0, 0, 0, 0, 6, 0, 0, 0, 0, 0, 0, 0, 0, 0, 0, 0, 0, 0, 0, 0, 0, 0, 0, 0, 0, 0, 0, 0, 0, 0, 0, 0, 0, 1, 2, 0, 0, 16, 8, 16, 0, 12, 8, 2, 0, 18, 11, 11, 11, 22, 2, 2, 5, 7, 0, 14, 6, 13, 10, 9, 5, 23, 0, 0, 12, 3, 6, 7, 0, 9, 0, 0, 7, 2, 0, 5, 0, 0, 0,\n",
      "0, 0, 0, 0, 0, 3, 0, 0, 0, 1, 7, 2, 0, 0, 0, 1, 0, 0, 0, 0, 0, 0, 0, 0, 0, 0, 0, 0, 0, 0, 0, 0, 0, 0, 0, 0, 0, 0, 0, 0, 2, 1, 0, 1, 17, 9, 24, 0, 14, 8, 0, 2, 18, 10, 13, 11, 24, 0, 1, 5, 5, 1, 16, 0, 12, 11, 3, 4, 5, 0, 0, 13, 3, 3, 9, 1, 9, 2, 0, 7, 0, 1, 0, 0, 10, 0,\n",
      "0, 0, 0, 0, 0, 5, 0, 0, 0, 0, 0, 1, 0, 0, 0, 0, 0, 0, 0, 0, 0, 0, 0, 0, 0, 0, 0, 0, 0, 0, 0, 0, 0, 0, 0, 0, 0, 0, 0, 0, 2, 1, 0, 0, 19, 10, 20, 0, 16, 9, 1, 0, 18, 12, 18, 10, 21, 0, 1, 8, 4, 1, 16, 4, 3, 12, 0, 0, 16, 0, 5, 9, 3, 6, 9, 0, 5, 2, 0, 0, 0, 1, 0, 0, 2, 6,\n",
      "0, 0, 0, 0, 0, 0, 0, 0, 1, 0, 0, 0, 0, 0, 0, 0, 0, 0, 0, 0, 0, 0, 0, 0, 0, 0, 0, 0, 0, 0, 0, 0, 0, 0, 0, 0, 0, 0, 0, 0, 2, 3, 1, 0, 17, 8, 23, 3, 14, 7, 1, 0, 17, 11, 17, 10, 23, 0, 2, 7, 8, 0, 7, 18, 6, 0, 5, 4, 18, 0, 2, 5, 0, 7, 8, 3, 2, 0, 0, 0, 0, 0, 6, 0, 2, 6,\n",
      "0, 0, 0, 0, 0, 0, 0, 0, 0, 0, 1, 0, 0, 0, 0, 0, 0, 0, 0, 0, 0, 0, 0, 0, 0, 0, 0, 0, 0, 0, 0, 0, 0, 0, 0, 0, 0, 0, 0, 0, 2, 3, 0, 0, 17, 3, 26, 2, 16, 7, 0, 1, 27, 13, 9, 10, 20, 0, 1, 3, 4, 0, 7, 18, 10, 8, 3, 18, 19, 0, 0, 4, 4, 6, 0, 3, 3, 0, 0, 0, 0, 0, 0, 0, 0, 3,\n",
      "0, 0, 0, 0, 0, 0, 0, 0, 0, 0, 0, 0, 0, 0, 1, 0, 0, 0, 0, 0, 0, 0, 0, 0, 0, 0, 0, 0, 0, 0, 0, 0, 0, 0, 0, 0, 0, 0, 0, 0, 2, 2, 0, 0, 17, 14, 26, 2, 16, 7, 0, 6, 20, 11, 14, 11, 15, 4, 0, 5, 3, 0, 2, 28, 10, 3, 0, 27, 21, 0, 1, 3, 4, 6, 10, 6, 12, 2, 0, 0, 3, 0, 5, 0, 2, 1\n"
     ]
    }
   ],
   "source": [
    "# Print output for insertion into fire_data.h file\n",
    "selected_seqs = range(1, 40)\n",
    "\n",
    "# Calculate frame interval\n",
    "print(f\"Frame interval: {1000 / 25}\")\n",
    "\n",
    "for c in range(3):\n",
    "    items = []\n",
    "    print(f\"\\n// Data for {['R', 'G', 'B'][c]}\\n\")\n",
    "    for seq, _ in enumerate(selected_seqs):\n",
    "        data_to_strs = [f\"{x:d}\" for x in rgb_data_adj[c][seq].tolist()]\n",
    "        items.append(', '.join(data_to_strs))\n",
    "    print(',\\n'.join(items))\n",
    "    "
   ]
  },
  {
   "cell_type": "code",
   "execution_count": 20,
   "id": "9659d651",
   "metadata": {},
   "outputs": [
    {
     "name": "stdout",
     "output_type": "stream",
     "text": [
      "0, 0, 0, 0, 0, 0, 0, 0, 0, 0, 0, 0, 0, 0, 0, 0, 0, 0, 0, 0, 0, 0, 0, 0, 0, 0, 0, 0, 0, 0, 0, 0, 0, 0, 0, 0, 0, 0, 0, 0, 0, 0, 0, 0, 0, 0, 0, 0, 0, 0, 0, 0, 0, 0, 0, 0, 0, 0, 0, 0, 0, 0, 0, 0, 0, 0, 0, 0, 0, 0, 0, 0, 0, 0, 0, 0, 0, 0, 0, 0, 0, 0, 0, 0, 0, 0\n"
     ]
    }
   ],
   "source": [
    "print(', '.join([f\"{x:d}\" for x in [0]*86]))"
   ]
  },
  {
   "cell_type": "code",
   "execution_count": null,
   "id": "79c242c8",
   "metadata": {},
   "outputs": [],
   "source": []
  },
  {
   "cell_type": "code",
   "execution_count": 21,
   "id": "11167bd3",
   "metadata": {},
   "outputs": [
    {
     "data": {
      "text/plain": [
       "5160"
      ]
     },
     "execution_count": 21,
     "metadata": {},
     "output_type": "execute_result"
    }
   ],
   "source": [
    "60*86"
   ]
  },
  {
   "cell_type": "code",
   "execution_count": null,
   "id": "e4ff171e",
   "metadata": {},
   "outputs": [],
   "source": []
  },
  {
   "cell_type": "code",
   "execution_count": null,
   "id": "6f01c44c",
   "metadata": {},
   "outputs": [],
   "source": []
  }
 ],
 "metadata": {
  "kernelspec": {
   "display_name": "Python [conda env:torch]",
   "language": "python",
   "name": "conda-env-torch-py"
  },
  "language_info": {
   "codemirror_mode": {
    "name": "ipython",
    "version": 3
   },
   "file_extension": ".py",
   "mimetype": "text/x-python",
   "name": "python",
   "nbconvert_exporter": "python",
   "pygments_lexer": "ipython3",
   "version": "3.9.9"
  }
 },
 "nbformat": 4,
 "nbformat_minor": 5
}
