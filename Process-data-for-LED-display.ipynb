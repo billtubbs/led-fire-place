{
 "cells": [
  {
   "cell_type": "markdown",
   "id": "078776e7",
   "metadata": {},
   "source": [
    "# Process data for LED display"
   ]
  },
  {
   "cell_type": "markdown",
   "id": "86fad8bc",
   "metadata": {},
   "source": [
    "Scales and adjusts LED intensity values and converts to 'uint8'"
   ]
  },
  {
   "cell_type": "code",
   "execution_count": 1,
   "id": "1577a2cc",
   "metadata": {},
   "outputs": [],
   "source": [
    "import os\n",
    "import csv\n",
    "import datetime\n",
    "import numpy as np\n",
    "from PIL import Image\n",
    "import matplotlib.pyplot as plt"
   ]
  },
  {
   "cell_type": "code",
   "execution_count": 2,
   "id": "da8ac5a1",
   "metadata": {},
   "outputs": [],
   "source": [
    "image_dir = 'images'\n",
    "data_dir = 'data'\n",
    "\n",
    "label = 'seq_data'"
   ]
  },
  {
   "cell_type": "code",
   "execution_count": 3,
   "id": "afffca4c",
   "metadata": {},
   "outputs": [
    {
     "name": "stdout",
     "output_type": "stream",
     "text": [
      "sequence data on file:\n",
      "2022-01-01 22:16: 7\n",
      "2022-01-01 22:16: 7\n",
      "2022-01-01 22:17: 1\n",
      "2022-01-01 22:25: 2\n",
      "2022-01-01 22:31: 3\n",
      "2022-01-01 22:37: 4\n",
      "2022-01-01 22:43: 5\n"
     ]
    }
   ],
   "source": [
    "#dt_string = datetime.datetime.now().strftime('%Y-%m-%d %H:%M')\n",
    "filename = f'{label}_ids.csv'\n",
    "with open(os.path.join(data_dir, filename), 'r') as f:\n",
    "    csv_reader = csv.reader(f, delimiter=',')\n",
    "    lines = [line for line in csv_reader]\n",
    "\n",
    "print(\"sequence data on file:\")\n",
    "sequences = []\n",
    "for  line in lines:\n",
    "    print(f\"{line[0]}: {line[1]}\")\n",
    "    sequences.append(line[1])"
   ]
  },
  {
   "cell_type": "code",
   "execution_count": 4,
   "id": "b339b436",
   "metadata": {},
   "outputs": [],
   "source": [
    "selected_seqs = [1, 2, 3, 4, 5]"
   ]
  },
  {
   "cell_type": "code",
   "execution_count": 5,
   "id": "d7fd7171",
   "metadata": {},
   "outputs": [],
   "source": [
    "rgb_data = []\n",
    "for c in range(3):\n",
    "    filename = f'{label}_rgb_{c}.csv'\n",
    "    with open(os.path.join(data_dir, filename), 'r') as f:\n",
    "        x = np.loadtxt(f, delimiter=',')\n",
    "    rgb_data.append(x)\n",
    "assert(all(len(data) == len(sequences) for data in rgb_data))"
   ]
  },
  {
   "cell_type": "code",
   "execution_count": 6,
   "id": "f073aab0",
   "metadata": {},
   "outputs": [
    {
     "data": {
      "text/plain": [
       "3"
      ]
     },
     "execution_count": 6,
     "metadata": {},
     "output_type": "execute_result"
    }
   ],
   "source": [
    "# Multiply by 64\n",
    "\n",
    "adj_params = {\n",
    "    'mul': [64, 64, 32],\n",
    "    'power': [1, 1, 1],\n",
    "    'div': [1, 1, 1],\n",
    "    'v_min': [0, 0, 0],\n",
    "    'v_max': [64, 64, 32]\n",
    "}\n",
    "\n",
    "rgb_data_adj = []\n",
    "for c in range(3):\n",
    "    mul = adj_params['mul'][c]\n",
    "    div = adj_params['div'][c]\n",
    "    power = adj_params['power'][c]\n",
    "    v_min = adj_params['v_min'][c]\n",
    "    v_max = adj_params['v_max'][c]\n",
    "    x_data = []\n",
    "    for seq in selected_seqs:\n",
    "        x = np.clip(rgb_data[c][seq] * mul ** power / div, \n",
    "                    v_min, v_max)\n",
    "        x = x.astype('uint8')\n",
    "        x_data.append(x)\n",
    "    rgb_data_adj.append(x_data)\n",
    "\n",
    "len(rgb_data_adj)"
   ]
  },
  {
   "cell_type": "code",
   "execution_count": 7,
   "id": "db372d8f",
   "metadata": {},
   "outputs": [
    {
     "name": "stdout",
     "output_type": "stream",
     "text": [
      "\n",
      "// Data for R\n",
      "\n",
      "2, 33, 24, 21, 20, 17, 17, 36, 58, 45, 45, 45, 26, 22, 24, 34, 35, 17, 28, 45, 37, 15, 17, 4, 24, 4, 21, 34, 28, 4, 19, 12, 2, 12, 4, 21, 27, 4, 12, 15, 10, 4, 2, 21, 54, 43, 54, 41, 60, 60, 35, 33, 60, 17, 51, 52, 60, 41, 39, 51, 54, 46, 60, 43, 43, 52, 60, 60, 60, 41, 46, 60, 21, 60, 60, 54, 60, 44, 32, 46, 59, 39, 60, 58, 54, 39,\n",
      "\n",
      "15, 33, 25, 21, 27, 47, 30, 37, 51, 43, 45, 29, 24, 22, 25, 19, 23, 29, 25, 38, 22, 13, 15, 19, 19, 15, 21, 24, 34, 17, 18, 12, 7, 13, 16, 16, 21, 9, 9, 14, 9, 16, 9, 22, 55, 45, 53, 41, 63, 63, 34, 41, 61, 15, 50, 49, 57, 43, 37, 52, 56, 48, 59, 62, 47, 15, 58, 63, 57, 42, 39, 52, 53, 61, 63, 62, 63, 42, 29, 39, 54, 54, 59, 44, 24, 15,\n",
      "\n",
      "15, 33, 24, 19, 18, 15, 27, 46, 53, 15, 57, 39, 24, 22, 23, 15, 32, 34, 27, 19, 14, 14, 15, 15, 19, 15, 14, 40, 21, 17, 18, 12, 7, 13, 14, 15, 18, 13, 13, 14, 9, 12, 11, 22, 57, 49, 56, 43, 63, 63, 39, 42, 63, 15, 49, 52, 58, 42, 37, 51, 56, 46, 54, 61, 43, 36, 60, 62, 59, 43, 34, 59, 56, 61, 62, 59, 44, 15, 23, 32, 49, 55, 52, 53, 59, 15,\n",
      "\n",
      "15, 34, 24, 19, 18, 15, 50, 52, 50, 43, 43, 35, 24, 22, 22, 15, 24, 15, 15, 20, 14, 14, 15, 15, 18, 14, 6, 33, 22, 23, 18, 12, 0, 14, 15, 15, 33, 26, 13, 14, 9, 12, 9, 22, 55, 48, 55, 42, 63, 63, 38, 38, 63, 59, 50, 52, 57, 40, 17, 53, 58, 46, 56, 59, 55, 15, 41, 63, 63, 45, 43, 59, 60, 56, 60, 54, 39, 15, 23, 31, 63, 56, 24, 40, 46, 38,\n",
      "\n",
      "15, 39, 25, 19, 19, 15, 63, 49, 53, 40, 15, 34, 24, 22, 26, 15, 33, 40, 39, 30, 18, 14, 15, 17, 37, 15, 34, 15, 23, 17, 18, 12, 0, 13, 15, 23, 24, 0, 13, 14, 9, 12, 9, 22, 55, 47, 56, 45, 63, 63, 40, 35, 63, 15, 56, 48, 58, 40, 27, 53, 57, 45, 57, 44, 44, 15, 61, 63, 62, 43, 48, 56, 63, 62, 63, 54, 60, 15, 23, 34, 62, 24, 24, 39, 47, 43\n",
      "\n",
      "// Data for G\n",
      "\n",
      "2, 0, 0, 0, 2, 20, 8, 9, 27, 17, 0, 12, 0, 0, 0, 3, 8, 0, 4, 5, 8, 0, 0, 0, 3, 0, 2, 4, 4, 2, 0, 0, 0, 0, 0, 3, 0, 3, 0, 0, 4, 0, 3, 2, 38, 30, 44, 6, 34, 19, 6, 8, 34, 15, 28, 25, 46, 15, 11, 25, 17, 6, 42, 15, 27, 15, 45, 49, 58, 2, 5, 58, 15, 50, 37, 22, 49, 15, 0, 10, 18, 9, 15, 26, 25, 0,\n",
      "\n",
      "0, 3, 0, 0, 0, 15, 0, 6, 9, 11, 15, 4, 0, 0, 2, 0, 5, 0, 2, 7, 0, 0, 0, 0, 0, 0, 0, 0, 6, 1, 0, 0, 0, 0, 0, 0, 0, 0, 0, 0, 4, 5, 4, 10, 40, 23, 38, 0, 35, 26, 5, 22, 49, 9, 29, 29, 47, 16, 4, 26, 20, 7, 24, 63, 15, 19, 35, 38, 39, 1, 2, 0, 26, 33, 40, 15, 41, 8, 2, 5, 6, 12, 33, 14, 9, 0,\n",
      "\n",
      "0, 2, 0, 0, 0, 4, 4, 9, 26, 14, 0, 5, 0, 0, 1, 0, 6, 0, 4, 3, 0, 0, 0, 0, 0, 0, 1, 10, 2, 0, 0, 0, 0, 0, 1, 0, 0, 0, 0, 0, 4, 0, 3, 10, 44, 34, 45, 8, 38, 27, 11, 26, 53, 9, 31, 32, 46, 0, 17, 25, 19, 5, 16, 43, 37, 16, 37, 50, 47, 1, 4, 15, 8, 32, 32, 27, 15, 5, 0, 0, 0, 18, 24, 21, 35, 0,\n",
      "\n",
      "0, 3, 0, 0, 0, 6, 9, 18, 8, 7, 13, 4, 0, 0, 0, 2, 4, 9, 4, 2, 0, 0, 0, 0, 0, 0, 3, 5, 2, 0, 0, 0, 0, 0, 1, 0, 7, 0, 0, 0, 4, 3, 4, 9, 40, 33, 44, 5, 37, 30, 10, 16, 40, 43, 28, 31, 48, 0, 4, 25, 23, 4, 15, 36, 20, 16, 16, 59, 54, 0, 10, 15, 28, 29, 36, 24, 15, 6, 0, 0, 37, 27, 28, 17, 9, 8,\n",
      "\n",
      "0, 3, 0, 0, 0, 4, 36, 17, 13, 6, 8, 0, 0, 0, 0, 2, 0, 9, 9, 3, 0, 0, 0, 1, 0, 2, 5, 0, 0, 0, 0, 0, 0, 0, 0, 1, 2, 0, 0, 0, 4, 0, 4, 9, 39, 33, 46, 7, 38, 29, 12, 18, 55, 41, 30, 27, 44, 3, 4, 27, 20, 8, 22, 24, 40, 15, 15, 46, 44, 0, 18, 15, 36, 36, 31, 25, 34, 6, 0, 4, 36, 21, 34, 0, 9, 0\n",
      "\n",
      "// Data for B\n",
      "\n",
      "0, 0, 0, 0, 0, 2, 0, 0, 2, 2, 1, 1, 0, 0, 0, 0, 1, 0, 0, 0, 0, 0, 0, 0, 0, 0, 0, 0, 0, 0, 0, 0, 0, 0, 0, 0, 0, 0, 0, 0, 1, 0, 0, 1, 10, 8, 19, 1, 8, 4, 0, 1, 10, 2, 7, 5, 13, 4, 0, 4, 2, 1, 9, 5, 8, 3, 9, 4, 17, 0, 0, 2, 2, 9, 3, 2, 11, 2, 0, 0, 1, 0, 2, 1, 1, 0,\n",
      "\n",
      "0, 0, 0, 0, 0, 0, 0, 1, 1, 1, 0, 0, 0, 0, 0, 1, 0, 0, 0, 0, 0, 0, 0, 0, 0, 0, 0, 0, 0, 0, 0, 0, 0, 0, 0, 0, 0, 0, 0, 0, 1, 1, 1, 2, 11, 4, 12, 1, 9, 5, 0, 1, 9, 7, 9, 7, 12, 4, 0, 3, 2, 0, 3, 16, 7, 3, 0, 6, 16, 0, 0, 1, 2, 5, 5, 3, 7, 1, 0, 0, 2, 0, 4, 0, 0, 0,\n",
      "\n",
      "0, 0, 0, 0, 0, 0, 0, 0, 0, 0, 1, 1, 0, 0, 0, 0, 0, 0, 0, 0, 0, 0, 0, 0, 0, 0, 0, 1, 0, 0, 0, 0, 0, 0, 0, 0, 0, 0, 0, 0, 1, 0, 1, 2, 13, 7, 17, 2, 11, 6, 0, 4, 8, 3, 10, 8, 14, 0, 1, 3, 2, 0, 0, 7, 6, 3, 7, 15, 14, 0, 0, 2, 7, 4, 0, 2, 2, 0, 0, 0, 0, 0, 0, 1, 2, 0,\n",
      "\n",
      "0, 0, 0, 0, 0, 0, 0, 0, 1, 1, 2, 0, 0, 0, 0, 0, 1, 0, 0, 0, 0, 0, 0, 0, 0, 0, 0, 0, 0, 0, 0, 0, 0, 0, 0, 0, 0, 0, 0, 0, 1, 0, 0, 0, 10, 8, 15, 0, 11, 6, 0, 1, 9, 0, 7, 7, 13, 0, 0, 3, 4, 0, 0, 2, 4, 5, 9, 2, 15, 0, 0, 5, 11, 2, 2, 0, 6, 1, 0, 0, 5, 1, 2, 1, 2, 0,\n",
      "\n",
      "0, 0, 0, 0, 0, 0, 4, 2, 1, 1, 1, 1, 0, 0, 0, 0, 0, 0, 1, 0, 0, 0, 0, 0, 0, 0, 1, 0, 0, 0, 0, 0, 0, 0, 0, 0, 0, 0, 0, 0, 1, 0, 1, 2, 10, 8, 17, 1, 11, 6, 1, 1, 12, 8, 8, 6, 12, 3, 0, 4, 2, 0, 3, 1, 7, 3, 0, 3, 13, 0, 0, 2, 0, 6, 1, 1, 4, 1, 0, 0, 4, 0, 3, 1, 0, 0\n"
     ]
    }
   ],
   "source": [
    "# Print output for insertion into fire_data.h file\n",
    "\n",
    "for c in range(3):\n",
    "    items = []\n",
    "    print(f\"\\n// Data for {['R', 'G', 'B'][c]}\\n\")\n",
    "    for seq, _ in enumerate(selected_seqs):\n",
    "        data_to_strs = [f\"{x:d}\" for x in rgb_data_adj[c][seq].tolist()]\n",
    "        items.append(', '.join(data_to_strs))\n",
    "    print(',\\n\\n'.join(items))\n",
    "    "
   ]
  },
  {
   "cell_type": "code",
   "execution_count": null,
   "id": "11167bd3",
   "metadata": {},
   "outputs": [],
   "source": []
  },
  {
   "cell_type": "code",
   "execution_count": null,
   "id": "e4ff171e",
   "metadata": {},
   "outputs": [],
   "source": []
  },
  {
   "cell_type": "code",
   "execution_count": null,
   "id": "6f01c44c",
   "metadata": {},
   "outputs": [],
   "source": []
  }
 ],
 "metadata": {
  "kernelspec": {
   "display_name": "Python [conda env:torch]",
   "language": "python",
   "name": "conda-env-torch-py"
  },
  "language_info": {
   "codemirror_mode": {
    "name": "ipython",
    "version": 3
   },
   "file_extension": ".py",
   "mimetype": "text/x-python",
   "name": "python",
   "nbconvert_exporter": "python",
   "pygments_lexer": "ipython3",
   "version": "3.9.9"
  }
 },
 "nbformat": 4,
 "nbformat_minor": 5
}
